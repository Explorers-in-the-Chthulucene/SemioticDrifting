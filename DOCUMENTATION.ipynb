{
 "cells": [
  {
   "attachments": {},
   "cell_type": "markdown",
   "id": "9f1a839b",
   "metadata": {},
   "source": [
    "## Use of Fred"
   ]
  },
  {
   "attachments": {},
   "cell_type": "markdown",
   "id": "f3e5d3c9",
   "metadata": {},
   "source": [
    "### Negations\n",
    "\n",
    "There were noticeable and consistent mistakes in parsing sentences with negations, especially in sentences with a comma splice (= two independent sentences joined by a comma) where the second independent clause references some argument of the first one and negates it.\n",
    "\n",
    "Two examples:\n",
    "\n",
    "1. \"Vinciane Despret thinks-with other beings, human and not.\"\n",
    "2. \"Stories are essential, but are never “mere” stories.\"\n",
    "\n",
    "### Framenet alignment\n",
    "\n",
    "we thought it could have been useful to complement our frame identification with the one performed by fred but there was no way to extract from the graph this information, give that the alignment with Framester is done through the object property \"subClassOf\" that has a fred class as domain and a fndata:class as range.\n",
    "The problem emerges for two reason:\n",
    "- the alignment with Framester is not performed consistently and we found no way to predict wether a fndata class is present in the graph or not\n",
    "- the same object property couldn't be used as criterium since it is also used to align other classes, such as DOLCE events."
   ]
  },
  {
   "attachments": {},
   "cell_type": "markdown",
   "id": "340fb88c",
   "metadata": {},
   "source": [
    "### fine tuning\n",
    "\n",
    "- keep together titles of books\n",
    "- keep together compound verbs that are specifically harawayian and align to our ontology frame definition\n",
    "- extract modality (must, has to, should etc)"
   ]
  },
  {
   "attachments": {},
   "cell_type": "markdown",
   "id": "e6a370ab",
   "metadata": {},
   "source": [
    "We leveraged FRED role labeling and frame identification, based on <b>WordNet</b> and <b>FrameNet</b> and fine tuned it to identify the Frames described by ChthuluOntology.\n",
    "\n",
    "How? \n",
    "1. Target identification\n",
    "2. Frame identification\n",
    "\n",
    "by means of Frame-evoking lexical units, lemmatized and pos tagged (ex.\"listed with the Bragging frame are 10 LUs, including boast.n, boast.v, boastful.a, brag.v, and braggart.n.\") <a href=\"https://direct.mit.edu/coli/article/40/1/9/1461/Frame-Semantic-Parsing\">quote</a>\n",
    "\n",
    "\"The lexicon imposes some additional structure on roles, including relations to other roles in the same or related frames, and semantic types with respect to a small ontology (marking, for instance, that the entity filling the protagonist role must be sentient for frames of cognition). Figure 3 illustrates some of the structural elements comprising the frame lexicon by considering the Cause_to_make_noise frame.\"\n",
    "\n",
    "For this we created a multi index df? mah"
   ]
  },
  {
   "attachments": {},
   "cell_type": "markdown",
   "id": "44176458",
   "metadata": {},
   "source": [
    "### quotes as dialogue\n",
    "\n",
    "\"Think we must!\" come lo prende Book NLP?"
   ]
  },
  {
   "attachments": {},
   "cell_type": "markdown",
   "id": "3498b0e6",
   "metadata": {},
   "source": [
    "## Penn POS tagging\n",
    "\n",
    "<a href=\"https://www.ling.upenn.edu/courses/Fall_2003/ling001/penn_treebank_pos.html\">link</a>"
   ]
  },
  {
   "attachments": {},
   "cell_type": "markdown",
   "id": "c18b9c2f",
   "metadata": {},
   "source": [
    "## Frame definition"
   ]
  },
  {
   "attachments": {},
   "cell_type": "markdown",
   "id": "2a13c6b6",
   "metadata": {},
   "source": [
    "the identification of frames in the text was carried out following this workflow:\n",
    "\n",
    "1. Identification of all the main concepts\n",
    "2. Individuation of the significant terms related to each concept and relation of concepts between them\n",
    "3. Abstraction into Frames evoked by the previous conceptualization\n",
    "4. Aligning identified Frames with FrameNet's where possible\n",
    "5. Listing of lexical units (concept-related identified lexical units + new FrameNet related lexical unit)"
   ]
  }
 ],
 "metadata": {
  "kernelspec": {
   "display_name": "Python 3 (ipykernel)",
   "language": "python",
   "name": "python3"
  },
  "language_info": {
   "codemirror_mode": {
    "name": "ipython",
    "version": 3
   },
   "file_extension": ".py",
   "mimetype": "text/x-python",
   "name": "python",
   "nbconvert_exporter": "python",
   "pygments_lexer": "ipython3",
   "version": "3.10.0"
  }
 },
 "nbformat": 4,
 "nbformat_minor": 5
}
