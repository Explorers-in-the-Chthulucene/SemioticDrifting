{
 "cells": [
  {
   "attachments": {},
   "cell_type": "markdown",
   "id": "9f1a839b",
   "metadata": {},
   "source": [
    "## Use of Fred"
   ]
  },
  {
   "attachments": {},
   "cell_type": "markdown",
   "id": "f3e5d3c9",
   "metadata": {},
   "source": [
    "### Negations\n",
    "\n",
    "There were noticeable and consistent mistakes in parsing sentences with negations, especially in sentences with a comma splice (= two independent sentences joined by a comma) where the second independent clause references some argument of the first one and negates it.\n",
    "\n",
    "Two examples:\n",
    "\n",
    "1. \"Vinciane Despret thinks-with other beings, human and not.\"\n",
    "2. \"Stories are essential, but are never “mere” stories.\"\n"
   ]
  },
  {
   "attachments": {},
   "cell_type": "markdown",
   "id": "340fb88c",
   "metadata": {},
   "source": [
    "### fine tuning\n",
    "\n",
    "- keep together titles of books\n",
    "- keep together compound verbs that are specifically harawayian and align to our ontology frame definition\n",
    "- extract modality (must, has to, should etc)"
   ]
  },
  {
   "attachments": {},
   "cell_type": "markdown",
   "id": "44176458",
   "metadata": {},
   "source": [
    "### quotes as dialogue\n",
    "\n",
    "\"Think we must!\" come lo prende Book NLP?"
   ]
  }
 ],
 "metadata": {
  "kernelspec": {
   "display_name": "Python 3 (ipykernel)",
   "language": "python",
   "name": "python3"
  },
  "language_info": {
   "codemirror_mode": {
    "name": "ipython",
    "version": 3
   },
   "file_extension": ".py",
   "mimetype": "text/x-python",
   "name": "python",
   "nbconvert_exporter": "python",
   "pygments_lexer": "ipython3",
   "version": "3.10.0"
  }
 },
 "nbformat": 4,
 "nbformat_minor": 5
}
