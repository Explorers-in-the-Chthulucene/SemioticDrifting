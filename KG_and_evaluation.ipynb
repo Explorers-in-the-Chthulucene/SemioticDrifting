{
 "cells": [
  {
   "attachments": {},
   "cell_type": "markdown",
   "metadata": {},
   "source": [
    "# Knowledge Graph and Ontology evaluation"
   ]
  },
  {
   "attachments": {},
   "cell_type": "markdown",
   "metadata": {},
   "source": [
    "### Knowledge Graph\n",
    "\n",
    "Since the ontology as designed is meant to be populated automatically by means of text parsing, we designed our own algorithm to perform such task. \n",
    "\n",
    "The python code takes in input two datasets <b>\"alignment.csv\"</b> a dataset manually written to align BookNLP output (ex. POS tagging) with our ontology Classes and indentified Frames and Roles, and BookNLP <b>\"tokens\" file</b>, to parse each sentence and be able to reach related synctactic and morphological information.\n",
    "\n",
    "In addition, the two RDF of our ontologies (<a href=\"\">ChthuluConcepts.ttl</a> and <a href=\"\">ChthuluOnt.ttl</a>) exported from protégé are parsed and needed triples for class hierarchies and mapping are added to the main <b>ChthuluGraph</b>. \n",
    "\n",
    "The libraries <a href=\"https://pandas.pydata.org/\">pandas</a> and <a href=\"https://rdflib.readthedocs.io/en/stable/\">rdflib</a> are used to manipulate the data and build the Knowledge graph.\n",
    "\n",
    "Here is the algorithm desing\n",
    "\n",
    "Download the <b>python file</b>\n",
    "\n",
    "Here is the visualization of the final KG:"
   ]
  },
  {
   "attachments": {},
   "cell_type": "markdown",
   "metadata": {},
   "source": [
    "### Ontology Evaluation\n",
    "\n",
    "We formalized our competency questions in SPARQL queries language and queried the graph. <a href=\"\">Here</a> you can find the full Jupyter Notebook."
   ]
  }
 ],
 "metadata": {
  "language_info": {
   "name": "python"
  },
  "orig_nbformat": 4
 },
 "nbformat": 4,
 "nbformat_minor": 2
}
