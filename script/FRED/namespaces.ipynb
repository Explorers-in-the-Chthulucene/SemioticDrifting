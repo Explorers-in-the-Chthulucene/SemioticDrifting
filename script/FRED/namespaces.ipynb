{
 "cells": [
  {
   "attachments": {},
   "cell_type": "markdown",
   "metadata": {},
   "source": [
    "### Semiotic ontology:\n",
    "\n",
    "A content ontology pattern that encodes a basic semiotic theory, by reusing the situation pattern. The basic classes are: Expression, Meaning, Reference (the semiotic triangle), LinguisticAct (for the pragmatics), and Agent. A linguistic act is said to be context for expressions, with their meanings and references, and agents involved. Based on this pattern, several specific linguistic acts, such as 'tagging', 'translating', 'defining', 'formalizing', etc. can be defined, so constituting a formal vocabulary for a pragmatic web. This pattern has been extracted from a larger reference ontology, LMM, which is used in conjunction with DOLCE+DnS (http://www.ontologydesignpatterns.org/ont/dul/DUL.owl), in order to provide a metamodel to Wordnet, Linked Open Data, natural language processing data"
   ]
  },
  {
   "cell_type": "code",
   "execution_count": null,
   "metadata": {},
   "outputs": [],
   "source": [
    "# object properties\n",
    "\n",
    "<owl:ObjectProperty rdf:about=\"http://www.ontologydesignpatterns.org/cp/owl/semiotics.owl#denotes\">\n",
    "<rdfs:label xml:lang=\"en\">denotes</rdfs:label>\n",
    "<rdfs:comment>A relation between expressions and anything (including expressions). It can be used to talk about e.g. entities denoted by proper nouns: the proper noun 'Leonardo da Vinci' denotes the person Leonardo da Vinci; as well as to talk about sets of entities that can be described by a common noun: the common noun 'person' denotes the collection of all persons in a domain of discourse. In OWL2, punning can be used to represent denotation of concept names with owl class extensions, e.g. 'mouse' denotes owl:Class:Mouse.</rdfs:comment>\n",
    "<rdfs:isDefinedBy rdf:resource=\"http://www.ontologydesignpatterns.org/cp/owl/semiotics.owl\"/>\n",
    "<rdfs:domain rdf:resource=\"http://www.ontologydesignpatterns.org/cp/owl/semiotics.owl#InformationEntity\"/>\n",
    "<rdfs:range rdf:resource=\"http://www.ontologydesignpatterns.org/cp/owl/semiotics.owl#Reference\"/>\n",
    "</owl:ObjectProperty>\n",
    "\n",
    "<owl:ObjectProperty rdf:about=\"http://www.ontologydesignpatterns.org/cp/owl/semiotics.owl#hasConceptualization\">\n",
    "<rdfs:label xml:lang=\"en\">has conceptualization</rdfs:label>\n",
    "<rdfs:comment>The relation between a Meaning and a Reference : a Meaning conceptualizes an entity or a collection of entities. A same Reference can be given different conceptualizations, for example, an old cradle can be given a unifying Meaning based on the original aesthetic design, the functionality it was built for, or a new aesthetic functionality in which it can be used as a flower pot. Example: myoldcradle hasConceptualization FlowerPot. In OWL2, punning can be used to use the intension of an OWL class as a meaning, e.g. myoldcradle hasConceptualization owl:Class:FlowerPot.</rdfs:comment>\n",
    "<rdfs:isDefinedBy rdf:resource=\"http://www.ontologydesignpatterns.org/cp/owl/semiotics.owl\"/>\n",
    "<rdfs:range rdf:resource=\"http://www.ontologydesignpatterns.org/cp/owl/semiotics.owl#Meaning\"/>\n",
    "<rdfs:domain rdf:resource=\"http://www.ontologydesignpatterns.org/cp/owl/semiotics.owl#Reference\"/>\n",
    "</owl:ObjectProperty>\n",
    "\n",
    "<owl:ObjectProperty rdf:about=\"http://www.ontologydesignpatterns.org/cp/owl/semiotics.owl#hasInterpretant\">\n",
    "<rdfs:label rdf:datatype=\"http://www.w3.org/2001/XMLSchema#string\">has meaning</rdfs:label>\n",
    "<rdfs:label xml:lang=\"en\">has interpretant</rdfs:label>\n",
    "<rdfs:comment>The Peircean interpretant relation, widely adopted in semiotics: an Expression isInterpretantFor another, e.g. fourLeggedFriendOfHumans isInterpretantFor dog. Synonymy, translation, associativity, and topical proximity are all sources for interpretants, e.g.: domestic dog isInterpretantFor dog (synonymy); cane isInterpretantFor dog (translation); bark isInterpretantFor dog (associativity); veterinary isInterpretantFor dog (topical proximity). Semantic mechanisms such as metonymy depend on the interpretant relation. The interpretant relation is here taken as very broad, also accepting Manifestation(s) as interpretants.</rdfs:comment>\n",
    "<rdfs:isDefinedBy rdf:resource=\"http://www.ontologydesignpatterns.org/cp/owl/semiotics.owl\"/>\n",
    "<rdfs:domain rdf:resource=\"http://www.ontologydesignpatterns.org/cp/owl/semiotics.owl#InformationEntity\"/>\n",
    "<rdfs:range rdf:resource=\"http://www.ontologydesignpatterns.org/cp/owl/semiotics.owl#Meaning\"/>\n",
    "<owl:inverseOf rdf:resource=\"http://www.ontologydesignpatterns.org/cp/owl/semiotics.owl#isInterpretantFor\"/>\n",
    "</owl:ObjectProperty>"
   ]
  },
  {
   "attachments": {},
   "cell_type": "markdown",
   "metadata": {},
   "source": [
    "### Dolce"
   ]
  },
  {
   "cell_type": "code",
   "execution_count": null,
   "metadata": {},
   "outputs": [],
   "source": [
    "<owl:ObjectProperty rdf:about=\"http://www.ontologydesignpatterns.org/ont/dul/DUL.owl#classifies\">\n",
    "<rdfs:subPropertyOf rdf:resource=\"http://www.ontologydesignpatterns.org/ont/dul/DUL.owl#associatedWith\"/>\n",
    "<owl:inverseOf rdf:resource=\"http://www.ontologydesignpatterns.org/ont/dul/DUL.owl#isClassifiedBy\"/>\n",
    "<rdfs:domain rdf:resource=\"http://www.ontologydesignpatterns.org/ont/dul/DUL.owl#Concept\"/>\n",
    "<rdfs:range rdf:resource=\"http://www.ontologydesignpatterns.org/ont/dul/DUL.owl#Entity\"/>\n",
    "<rdfs:comment rdf:datatype=\"http://www.w3.org/2001/XMLSchema#string\">A relation between a Concept and an Entity, e.g. the Role 'student' classifies a Person 'John'.</rdfs:comment>\n",
    "<rdfs:isDefinedBy rdf:resource=\"http://www.ontologydesignpatterns.org/ont/dul/DUL.owl\"/>\n",
    "<rdfs:label xml:lang=\"it\">classifica</rdfs:label>\n",
    "<rdfs:label xml:lang=\"en\">classifies</rdfs:label>\n",
    "</owl:ObjectProperty>\n",
    "\n",
    "<owl:ObjectProperty rdf:about=\"http://www.ontologydesignpatterns.org/ont/dul/DUL.owl#coparticipatesWith\">\n",
    "<rdfs:subPropertyOf rdf:resource=\"http://www.ontologydesignpatterns.org/ont/dul/DUL.owl#associatedWith\"/>\n",
    "<owl:inverseOf rdf:resource=\"http://www.ontologydesignpatterns.org/ont/dul/DUL.owl#coparticipatesWith\"/>\n",
    "<rdf:type rdf:resource=\"http://www.w3.org/2002/07/owl#SymmetricProperty\"/>\n",
    "<rdfs:domain rdf:resource=\"http://www.ontologydesignpatterns.org/ont/dul/DUL.owl#Object\"/>\n",
    "<rdfs:range rdf:resource=\"http://www.ontologydesignpatterns.org/ont/dul/DUL.owl#Object\"/>\n",
    "<owl:propertyChainAxiom rdf:parseType=\"Collection\">\n",
    "<rdf:Description rdf:about=\"http://www.ontologydesignpatterns.org/ont/dul/DUL.owl#isParticipantIn\"/>\n",
    "<rdf:Description rdf:about=\"http://www.ontologydesignpatterns.org/ont/dul/DUL.owl#hasParticipant\"/>\n",
    "</owl:propertyChainAxiom>\n",
    "<rdfs:comment rdf:datatype=\"http://www.w3.org/2001/XMLSchema#string\">A relation between two objects participating in a same Event; e.g., 'Vitas and Jimmy are playing tennis'.</rdfs:comment>\n",
    "<rdfs:isDefinedBy rdf:resource=\"http://www.ontologydesignpatterns.org/ont/dul/DUL.owl\"/>\n",
    "<rdfs:label xml:lang=\"en\">co-participates with</rdfs:label>\n",
    "<rdfs:label xml:lang=\"it\">copartecipa con</rdfs:label>\n",
    "</owl:ObjectProperty>\n",
    "\n",
    "<owl:ObjectProperty rdf:about=\"http://www.ontologydesignpatterns.org/ont/dul/DUL.owl#defines\">\n",
    "<rdfs:subPropertyOf rdf:resource=\"http://www.ontologydesignpatterns.org/ont/dul/DUL.owl#usesConcept\"/>\n",
    "<owl:inverseOf rdf:resource=\"http://www.ontologydesignpatterns.org/ont/dul/DUL.owl#isDefinedIn\"/>\n",
    "<rdfs:domain rdf:resource=\"http://www.ontologydesignpatterns.org/ont/dul/DUL.owl#Description\"/>\n",
    "<rdfs:range rdf:resource=\"http://www.ontologydesignpatterns.org/ont/dul/DUL.owl#Concept\"/>\n",
    "<rdfs:comment rdf:datatype=\"http://www.w3.org/2001/XMLSchema#string\">A relation between a Description and a Concept, e.g. a Workflow for a governmental Organization defines the Role 'officer', or 'the Italian Traffic Law defines the role Vehicle'.</rdfs:comment>\n",
    "<rdfs:isDefinedBy rdf:resource=\"http://www.ontologydesignpatterns.org/ont/dul/DUL.owl\"/>\n",
    "<rdfs:label xml:lang=\"en\">defines</rdfs:label>\n",
    "<rdfs:label xml:lang=\"it\">definisce</rdfs:label>\n",
    "</owl:ObjectProperty>\n",
    "\n"
   ]
  },
  {
   "attachments": {},
   "cell_type": "markdown",
   "metadata": {},
   "source": [
    "### role\n",
    "This ontology contains object properties corresponding to the thematic roles used by VerbNet. Their domain is defined to be dul:Event.\n"
   ]
  },
  {
   "cell_type": "code",
   "execution_count": null,
   "metadata": {},
   "outputs": [],
   "source": []
  }
 ],
 "metadata": {
  "language_info": {
   "name": "python"
  },
  "orig_nbformat": 4
 },
 "nbformat": 4,
 "nbformat_minor": 2
}
