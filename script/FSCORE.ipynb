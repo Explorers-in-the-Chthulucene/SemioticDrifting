{
 "cells": [
  {
   "cell_type": "markdown",
   "id": "ede4dc59-147d-42d3-8005-e3a735560e09",
   "metadata": {},
   "source": [
    "# Named Entity Recognition Review"
   ]
  },
  {
   "cell_type": "code",
   "execution_count": 41,
   "id": "85edb68d-7cae-4465-a3af-a91df8327738",
   "metadata": {},
   "outputs": [
    {
     "data": {
      "text/plain": [
       "36"
      ]
     },
     "execution_count": 41,
     "metadata": {},
     "output_type": "execute_result"
    }
   ],
   "source": [
    "#booknlp entities (positive)\n",
    "\n",
    "booknlpentities = [\"Vinciane Despret\",\"other beings\",\"Despret\",\"beings\",\"Despret\",\"others\",\"all the players\",\"a philosopher\",\"scientists\",\"Thelma Rowell\",\"Despret\",\"Despret\",\"Arendt\",\"others\",\"ones interlocutors\",\"one\",\"its practitioners\",\"Despret\",\"Despret\",\"one\",\"the choreographer\",\"a trickster\",\"another\",\"everybody\",\"a polite inquirer\",\"Miss Manners\",\"Despret\",\"the Israeli ornithologist Amotz Zahavi\",\"Amotz Zahavi\",\"the scientists\",\"Zahavi\",\"babblers\",\"The babblers\",\"Zahavi\",\"Zahavi\",\"the babblers\",\"one another\",\"each other\",\"an endangered comrade\",\"Zahavi\",\"Despret\",\"scientists\",\"their scientists\",\"observers\",\"Birds\",\"scientists\",\"their observers\",\"Zahavi\",\"babblers\",\"Despret\",\"scientists\",\"Birds\",\"scientists\",\"each other\",\"the babblers\",\"the scientists\",\"Despret\",\"humans\",\"babblers\",\"Despret\",\"people\",\"people\",\"Despret\",\"sociologist Jocelyne Porcher\",\"the farmers\",\"Despret\",\"Porcher\",\"cow and pig breeders\",\"the humans\",\"sober , nonromantic , working breeders\",\"Despret\",\"Porcher\",\"the farmers\",\"their people\",\"the breeders\",\"the breeders\",\"people\",\"these breeders\",\"The breeders\",\"the researchers\",\"the breeders\",\"people\",\"Farmers\",\"their peers\",\"The animals\",\"their farmers\",\"good breeders\",\"the other\",\"humans\",\"humans that nourish animals\",\"Despret\",\"their people\",\"human people on the menu\",\"Vinciane Despret\",\"an extraordinary collective of bumptious women\",\"Virginia Woolf\",\"women\",\"the patrilines\",\"Virginia Woolf\",\"any other woman\",\"men for that matter\",\"people\",\"Hannah Arendt\",\"Virginia Woolf\",\"unexpected,non-natal kin\",\"Visiting\",\"the babblers\",\"the storytellers\",\"Arendt\",\"Woolf\",\"Despret\",\"her collaborators\",\"women who make a fuss\",\"the True\",\"we\",\"Despret\",\"Despret\",\"Isabelle Stengers\",\"the father\",\"the eldest son\",\"the second son\",\"an old man living in the village\",\"the sons\",\"the heirs\",\"the old man\",\"Despret\",\"the problematic sons\",\"Despret\",\"anybody\",\"anyone listening\",\"anyone attuned\",\"Long-legged,big-lipped,humped camels\",\"the storyteller\",\"Despret\",\"their people\",\"people\",\"each other\",\"Despret\",\"situated human beings\",\"people\",\"Despret\",\"their avid fanciers\",\"lovers of pigeons\",\"Despret\",\"her colleagues\",\"Despret\",\"Beatriz da Costa\",\"their fanciers\",\"a working-class men\"]     \n",
    "\n",
    "lenentiti = len(booknlpentities)\n",
    "                   \n",
    "booknlporg = [\"the Negev desert field site of the Israeli ornithologist Amotz Zahavi\",\"nonindustrial French farms\",\"the farm\",\"the chateau at Cerisy\",\"shared , often vexed public spaces\",\"innovative pigeon lofts\",\"Matali Crasset's Capsule\",\"the leisure park of Caudry\",\"a prototype pigeon loft\",\"this loft\",\"the ecological park\",\"a variegated nature reserve\",\"the village\",\"Cerisy\",\"Southern California\",\"Baghdad\",\"Damascus\",\"New York\",\"Berlin\",\"regions\",\"France\",\"Iran\",\"California\",\"Caudry\",\"the world\",\"the world\",\"The world in the southern Israeli desert\",\"the southern Israeli desert\",\"the world\",\"Western worlds\",\"Gobi Desert\",\"situated worlds\",\"the tissues of an earth whose very habitability is threatened\",\"an earth whose very habitability is threatened\",\"the world\",\"exhausted farmland\"]\n",
    "lenorg = len(booknlporg)\n",
    "lenorg"
   ]
  },
  {
   "cell_type": "code",
   "execution_count": null,
   "id": "76aa9da6-9298-4eb8-b251-e5bd4db83c4b",
   "metadata": {},
   "outputs": [],
   "source": [
    "falsePositiveNLP= [\"a philosopher\", \"a scientist who is allergic to denunciation and hungry for discovery , needy for what must be known and built together , with and for earthly beings\", \"They\", \"not who / what were anticipated either\", \"a trickster\", \"her\", \"she\", \"Arabian babblers who defied orthodox accounts of what birds should be doing , even as the scientists also acted off - script scientifically\", \"their scientists\", \"sober, nonromantic working breeders\", \"their people\", \"these breeders\"]"
   ]
  },
  {
   "cell_type": "code",
   "execution_count": 37,
   "id": "f009d66b-63f6-4519-a640-d7d48a703881",
   "metadata": {},
   "outputs": [
    {
     "data": {
      "text/plain": [
       "28"
      ]
     },
     "execution_count": 37,
     "metadata": {},
     "output_type": "execute_result"
    }
   ],
   "source": [
    "#ma entities\n",
    "ma_per = [\"Vinciane Despret\", \"singing blackbird\", \"Thelma Rowell\", \"Soay sheep\", \"Hannah Arendt\", \"Miss Manners\", \"Amotz Zahavi\", \"Arabian babblers\", \"Jocelyne Porcher\", \"Isabelle Stengers\", \"Virginia Woolf\", \"Beatriz da Costa\"  ]\n",
    "# oddper = [{\"Curiosity\": \"Curiosity always leads its practitioners a bit too far off the path, and that way lie stories.\"}]\n",
    "ma_general = [\"birds\", \"scientists\", \"observers\", \"a polite inquirer\", \"humans\", \"critters\", \"apparatuses\", \"farmers\", \"breeders\", \"pigs\", \"cows\", \"animals\", \"women\", \"camels\", \"father\", \"sons\", \"old man\", \"the heirs\", \"beasts\", \"anyone listening\", \"anyone attuned\", \"storyteller\", \"people\", \"racing pigeons, also called carrier pigeons\", \"fanciers\", \"collegues\", \"Matali Crasset\", \"colombophiles\", \"visitors\", \"avian voyageurs\"]\n",
    "ma_gpe = [\"Cerisy\", \"Southern California\", \"Baghdad\", \"Damascus\", \"New Yorl\", \"Berlin\", \"France\", \"Iran\", \"California\", \"Caudry\"]\n",
    "ma_loc = [\"Negev desert\", \"southern Israeli desert\" \"a world of propositions not available before\", \"nonindustrial French farms\", \"Western worlds\", \"village\", \"the mortal world\", \"markets\", \"places of travel and labour\", \"Worlds-at-stake\", \"Gobi desert\", \"chateau\", \"public spaces\", \"innovative pigeon lofts\", \"leisure park\", \"ecological park\", \"farmland\", \"nature reserve\"]\n",
    "ma_org = [\"The Beauvois association of carier pigeon fanciers\"]\n",
    "\n",
    "concepts = [{\"haraway\" : [\"vocation\", \"going visiting\", \"thinking-with\", \"rendering-capable\", \"worlding\", \"live and die\", \"multispecies flourishing\", \"fabulate\", \"response-ability\", \"earth-bound\", \"make a fuss\", \"cat's cradle\", \"ongoingness\", \"string figure games\", \"companion species\", \"past, present, yet to come (so far)\", \"they stay with the trouble\", \"speculative fabulation\" ]}, {\"Despret\": [\"the virtue of politeness\", \"anthropo-zoo-genesis\", \"make a fuss\", \"thinking from a heritage = loyalty\", \"start from\", \"inherit\"]}, {\"Arendt\" : [\"going-visiting\", \"make a fuss\"]}, {\"Birds and scientists\": [\"becoming-with\", \"create narratives\"]} ]\n",
    "conceptsinlist= [\"vocation\", \"going visiting\", \"thinking-with\", \"rendering-capable\", \"worlding\", \"live and die\", \"multispecies flourishing\", \"fabulate\", \"response-ability\", \"earth-bound\", \"make a fuss\", \"cat's cradle\", \"ongoingness\", \"string figure games\", \"companion species\", \"past, present, yet to come (so far)\", \"they stay with the trouble\", \"speculative fabulation\", \"the virtue of politeness\", \"anthropo-zoo-genesis\", \"make a fuss\", \"thinking from a heritage = loyalty\", \"start from\", \"inherit\", \"going-visiting\", \"make a fuss\",\"becoming-with\", \"create narratives\"]\n",
    "\n",
    "ma_general = ma_per+ma_general\n",
    "ma_locations = ma_loc+ma_gpe\n",
    "\n",
    "len(conceptsinlist)"
   ]
  },
  {
   "cell_type": "code",
   "execution_count": 19,
   "id": "f241a20b-add7-47b4-9a7a-7a45e4ae7e23",
   "metadata": {},
   "outputs": [
    {
     "data": {
      "text/plain": [
       "42"
      ]
     },
     "execution_count": 19,
     "metadata": {},
     "output_type": "execute_result"
    }
   ],
   "source": [
    "w = len(ma_general)\n",
    "w"
   ]
  },
  {
   "cell_type": "code",
   "execution_count": 36,
   "id": "767642ce-e3de-4fbc-af47-171e6f15ef89",
   "metadata": {},
   "outputs": [],
   "source": [
    "mylistofgeneral = []\n",
    "for x in ma_general:\n",
    "    mylistofgeneral.append(0)\n",
    "    \n",
    "mylistoforg = []\n",
    "for x in ma_org_fac:\n",
    "    mylistoforg.append(1)\n",
    "\n",
    "\n",
    "mylistofloc = []\n",
    "for x in ma_locations:\n",
    "    mylistofloc.append(2)"
   ]
  },
  {
   "cell_type": "code",
   "execution_count": 20,
   "id": "9e2df18d-69e9-4ada-b435-ca2d24b920a6",
   "metadata": {},
   "outputs": [
    {
     "data": {
      "text/plain": [
       "27"
      ]
     },
     "execution_count": 20,
     "metadata": {},
     "output_type": "execute_result"
    }
   ],
   "source": [
    "z = len(ma_locations)\n",
    "z"
   ]
  },
  {
   "cell_type": "code",
   "execution_count": 21,
   "id": "a0439c10-a55b-4550-8a43-ca890213e10f",
   "metadata": {},
   "outputs": [
    {
     "data": {
      "text/plain": [
       "1"
      ]
     },
     "execution_count": 21,
     "metadata": {},
     "output_type": "execute_result"
    }
   ],
   "source": [
    "p = len(ma_org_fac)\n",
    "p"
   ]
  },
  {
   "cell_type": "code",
   "execution_count": null,
   "id": "780fe0c7-60be-4af2-b3c0-afcc5f3fb9ab",
   "metadata": {},
   "outputs": [],
   "source": [
    "w"
   ]
  },
  {
   "cell_type": "code",
   "execution_count": 43,
   "id": "b99992ad-2271-4ea4-9b79-e80fc38ebac7",
   "metadata": {},
   "outputs": [],
   "source": [
    "#classes have been set as follows: agents, that comprehend person and general entities such as animals. Then we have locations, comprehending gpe and loc values, and organisations, where there are organisations and fac elements.\n",
    "#nb person class includes also animals, since boonlp recognized some animals and put it as person.\n",
    "\n",
    "#nb: in this investigation, pronoum have been cutting off.\n",
    "\n",
    "#three classes\n",
    "# 0 = agents\n",
    "# 1 = organizations\n",
    "# 2 = locations (FAC, GPE, LOC)\n",
    "# 3 = concepts\n",
    "classes = (0, 1, 2, 3)\n"
   ]
  },
  {
   "cell_type": "code",
   "execution_count": 46,
   "id": "bf4236b6-5b47-4180-918e-e5d497e6376d",
   "metadata": {},
   "outputs": [
    {
     "name": "stdout",
     "output_type": "stream",
     "text": [
      "Defaulting to user installation because normal site-packages is not writeable"
     ]
    },
    {
     "name": "stderr",
     "output_type": "stream",
     "text": [
      "Error processing line 1 of C:\\Users\\MARGARET\\AppData\\Roaming\\Python\\Python310\\site-packages\\vision-1.0.0-py3.10-nspkg.pth:\n",
      "\n",
      "  Traceback (most recent call last):\n",
      "    File \"C:\\Program Files\\Python310\\lib\\site.py\", line 186, in addpackage\n",
      "      exec(line)"
     ]
    },
    {
     "name": "stdout",
     "output_type": "stream",
     "text": [
      "\n",
      "Requirement already satisfied: pycm in c:\\users\\margaret\\appdata\\roaming\\python\\python310\\site-packages (4.0)\n",
      "Requirement already satisfied: art>=1.8 in c:\\users\\margaret\\appdata\\roaming\\python\\python310\\site-packages (from pycm) (6.0)\n",
      "Requirement already satisfied: numpy>=1.9.0 in c:\\users\\margaret\\appdata\\roaming\\python\\python310\\site-packages (from pycm) (1.22.2)\n"
     ]
    },
    {
     "name": "stderr",
     "output_type": "stream",
     "text": [
      "\n",
      "    File \"<string>\", line 1, in <module>\n",
      "    File \"<frozen importlib._bootstrap>\", line 568, in module_from_spec\n",
      "  AttributeError: 'NoneType' object has no attribute 'loader'\n",
      "\n",
      "Remainder of file ignored\n",
      "WARNING: There was an error checking the latest version of pip.\n"
     ]
    }
   ],
   "source": [
    "!pip install pycm"
   ]
  },
  {
   "cell_type": "code",
   "execution_count": 48,
   "id": "5ed4f272-2735-4142-9856-37b5842c536d",
   "metadata": {},
   "outputs": [],
   "source": [
    "from pycm import *"
   ]
  },
  {
   "cell_type": "code",
   "execution_count": 51,
   "id": "8c571d09-f5d6-4b3f-95bf-7bb74b668f7e",
   "metadata": {},
   "outputs": [],
   "source": [
    "y_pred = [1,0,0,0,0,0,0,0,0,0,0,0,0,0,0,0,0,0,0,0,0,0,0,0,0,0,0,0,0,0,0,0,0,0,0,0,0,0,0,0,0,0,0,0,0,0,0,0,0,0,0,0,0,0,0,0,0,0,0,0,0,0,2,2,2,2,2,2,2,2,2,2,2,2,2,2,2,2,2,2,2,2,2,2,2,2,2,2,2,2,2,2,2,2,2,2,2,2]\n",
    "y_actu = [3,3,3,3,3,3,3,3,3,3,3,3,3,3,3,3,3,3,3,3,3,3,3,3,3,3,3,3,0,0,0,0,0,0,0,0,0,0,0,0,0,0,0,0,0,0,0,0,0,0,0,0,0,0,0,0,0,0,0,0,0,0,0,0,0,0,0,0,0,0,1,2,2,2,2,2,2,2,2,2,2,2,2,2,2,2,2,2,2,2,2,2,2,2,2,2,2,2]"
   ]
  },
  {
   "cell_type": "code",
   "execution_count": 58,
   "id": "57bdda0c-a735-4cfb-91ec-d3e80cf152ea",
   "metadata": {},
   "outputs": [
    {
     "data": {
      "text/plain": [
       "{'Overall ACC': 0.6224489795918368,\n",
       " 'Overall RACCU': 0.3999895876718035,\n",
       " 'Overall RACC': 0.3680758017492711,\n",
       " 'Kappa': 0.4025374855824683,\n",
       " 'Gwet AC1': 0.5280591769886549,\n",
       " 'Bennett S': 0.49659863945578236,\n",
       " 'Kappa Standard Error': 0.07749285828023449,\n",
       " 'Kappa Unbiased': 0.37075921908893705,\n",
       " 'Scott PI': 0.37075921908893705,\n",
       " 'Kappa No Prevalence': 0.24489795918367352,\n",
       " 'Kappa 95% CI': (0.25065148335320875, 0.5544234878117279),\n",
       " 'Standard Error': 0.04896961233889453,\n",
       " '95% CI': (0.5264685394076035, 0.71842941977607),\n",
       " 'Chi-Squared': 'None',\n",
       " 'Phi-Squared': 'None',\n",
       " 'Cramer V': 'None',\n",
       " 'Response Entropy': 1.0239723171431745,\n",
       " 'Reference Entropy': 1.620166659087305,\n",
       " 'Cross Entropy': 0.7586810803212338,\n",
       " 'Joint Entropy': 1.9847337041219546,\n",
       " 'Conditional Entropy': 0.3645670450346495,\n",
       " 'Mutual Information': 0.6594052721085251,\n",
       " 'KL Divergence': 'None',\n",
       " 'Lambda B': 0.7567567567567568,\n",
       " 'Lambda A': 0.35714285714285715,\n",
       " 'Chi-Squared DF': 9,\n",
       " 'Overall J': (1.2427536231884058, 0.31068840579710144),\n",
       " 'Hamming Loss': 0.37755102040816324,\n",
       " 'Zero-one Loss': 37,\n",
       " 'NIR': 0.42857142857142855,\n",
       " 'P-Value': 8.675792053358666e-05,\n",
       " 'Overall CEN': 0.23618755459053295,\n",
       " 'Overall MCEN': 0.2641192944457822,\n",
       " 'Overall MCC': 0.4535674164444877,\n",
       " 'RR': 24.5,\n",
       " 'CBA': 0.32684426229508196,\n",
       " 'AUNU': 0.6487888888312694,\n",
       " 'AUNP': 0.6903936505631727,\n",
       " 'RCI': 0.40699842106366424,\n",
       " 'Pearson C': 'None',\n",
       " 'TPR Micro': 0.6224489795918368,\n",
       " 'TPR Macro': 0.4523809523809524,\n",
       " 'CSI': 'None',\n",
       " 'ARI': 0.38938517614215634,\n",
       " 'TNR Micro': 0.8741496598639455,\n",
       " 'TNR Macro': 0.8451968252815865,\n",
       " 'Bangdiwala B': 0.5332390381895332,\n",
       " 'Krippendorff Alpha': 0.3739696312364424,\n",
       " 'SOA1(Landis & Koch)': 'Moderate',\n",
       " 'SOA2(Fleiss)': 'Intermediate to Good',\n",
       " 'SOA3(Altman)': 'Moderate',\n",
       " 'SOA4(Cicchetti)': 'Fair',\n",
       " 'SOA5(Cramer)': 'None',\n",
       " 'SOA6(Matthews)': 'Weak',\n",
       " 'SOA7(Lambda A)': 'Weak',\n",
       " 'SOA8(Lambda B)': 'Strong',\n",
       " 'SOA9(Krippendorff Alpha)': 'Low',\n",
       " 'SOA10(Pearson C)': 'None',\n",
       " 'FPR Macro': 0.15480317471841354,\n",
       " 'FNR Macro': 0.5476190476190477,\n",
       " 'PPV Macro': 'None',\n",
       " 'NPV Macro': 0.8719400549297457,\n",
       " 'ACC Macro': 0.8112244897959184,\n",
       " 'F1 Macro': 0.37933425797503467,\n",
       " 'FPR Micro': 0.12585034013605445,\n",
       " 'FNR Micro': 0.37755102040816324,\n",
       " 'PPV Micro': 0.6224489795918368,\n",
       " 'F1 Micro': 0.6224489795918368,\n",
       " 'NPV Micro': 0.8741496598639455}"
      ]
     },
     "execution_count": 58,
     "metadata": {},
     "output_type": "execute_result"
    }
   ],
   "source": [
    "cm = ConfusionMatrix(y_actu, y_pred,digit=5)\n",
    "cm.overall_stat"
   ]
  },
  {
   "cell_type": "code",
   "execution_count": 56,
   "id": "9ce6499b-6301-4889-bafa-0513f113be57",
   "metadata": {},
   "outputs": [
    {
     "ename": "TypeError",
     "evalue": "'dict' object is not callable",
     "output_type": "error",
     "traceback": [
      "\u001b[1;31m---------------------------------------------------------------------------\u001b[0m",
      "\u001b[1;31mTypeError\u001b[0m                                 Traceback (most recent call last)",
      "Input \u001b[1;32mIn [56]\u001b[0m, in \u001b[0;36m<module>\u001b[1;34m\u001b[0m\n\u001b[1;32m----> 1\u001b[0m \u001b[43mcm\u001b[49m\u001b[38;5;241;43m.\u001b[39;49m\u001b[43mnormalized_matrix\u001b[49m\u001b[43m(\u001b[49m\u001b[43m)\u001b[49m\n",
      "\u001b[1;31mTypeError\u001b[0m: 'dict' object is not callable"
     ]
    }
   ],
   "source": []
  }
 ],
 "metadata": {
  "kernelspec": {
   "display_name": "Python 3 (ipykernel)",
   "language": "python",
   "name": "python3"
  },
  "language_info": {
   "codemirror_mode": {
    "name": "ipython",
    "version": 3
   },
   "file_extension": ".py",
   "mimetype": "text/x-python",
   "name": "python",
   "nbconvert_exporter": "python",
   "pygments_lexer": "ipython3",
   "version": "3.10.0"
  }
 },
 "nbformat": 4,
 "nbformat_minor": 5
}
