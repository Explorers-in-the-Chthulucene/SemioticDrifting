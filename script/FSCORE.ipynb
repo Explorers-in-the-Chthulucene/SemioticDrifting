{
 "cells": [
  {
   "cell_type": "markdown",
   "id": "ede4dc59-147d-42d3-8005-e3a735560e09",
   "metadata": {},
   "source": [
    "# Named Entity Recognition Review"
   ]
  },
  {
   "cell_type": "code",
   "execution_count": 55,
   "id": "85edb68d-7cae-4465-a3af-a91df8327738",
   "metadata": {},
   "outputs": [
    {
     "data": {
      "text/plain": [
       "149"
      ]
     },
     "execution_count": 55,
     "metadata": {},
     "output_type": "execute_result"
    }
   ],
   "source": [
    "#booknlp entities (positive)\n",
    "\n",
    "booknlpentities = [\"Vinciane Despret\",\"other beings\",\"Despret\",\"beings\",\"Despret\",\"others\",\"all the players\",\"a philosopher\",\"scientists\",\"Thelma Rowell\",\"Despret\",\"Despret\",\"Arendt\",\"others\",\"ones interlocutors\",\"one\",\"its practitioners\",\"Despret\",\"Despret\",\"one\",\"the choreographer\",\"a trickster\",\"another\",\"everybody\",\"a polite inquirer\",\"Miss Manners\",\"Despret\",\"the Israeli ornithologist Amotz Zahavi\",\"Amotz Zahavi\",\"the scientists\",\"Zahavi\",\"babblers\",\"The babblers\",\"Zahavi\",\"Zahavi\",\"the babblers\",\"one another\",\"each other\",\"an endangered comrade\",\"Zahavi\",\"Despret\",\"scientists\",\"their scientists\",\"observers\",\"Birds\",\"scientists\",\"their observers\",\"Zahavi\",\"babblers\",\"Despret\",\"scientists\",\"Birds\",\"scientists\",\"each other\",\"the babblers\",\"the scientists\",\"Despret\",\"humans\",\"babblers\",\"Despret\",\"people\",\"people\",\"Despret\",\"sociologist Jocelyne Porcher\",\"the farmers\",\"Despret\",\"Porcher\",\"cow and pig breeders\",\"the humans\",\"sober , nonromantic , working breeders\",\"Despret\",\"Porcher\",\"the farmers\",\"their people\",\"the breeders\",\"the breeders\",\"people\",\"these breeders\",\"The breeders\",\"the researchers\",\"the breeders\",\"people\",\"Farmers\",\"their peers\",\"The animals\",\"their farmers\",\"good breeders\",\"the other\",\"humans\",\"humans that nourish animals\",\"Despret\",\"their people\",\"human people on the menu\",\"Vinciane Despret\",\"an extraordinary collective of bumptious women\",\"Virginia Woolf\",\"women\",\"the patrilines\",\"Virginia Woolf\",\"any other woman\",\"men for that matter\",\"people\",\"Hannah Arendt\",\"Virginia Woolf\",\"unexpected,non-natal kin\",\"Visiting\",\"the babblers\",\"the storytellers\",\"Arendt\",\"Woolf\",\"Despret\",\"her collaborators\",\"women who make a fuss\",\"the True\",\"we\",\"Despret\",\"Despret\",\"Isabelle Stengers\",\"the father\",\"the eldest son\",\"the second son\",\"an old man living in the village\",\"the sons\",\"the heirs\",\"the old man\",\"Despret\",\"the problematic sons\",\"Despret\",\"anybody\",\"anyone listening\",\"anyone attuned\",\"Long-legged,big-lipped,humped camels\",\"the storyteller\",\"Despret\",\"their people\",\"people\",\"each other\",\"Despret\",\"situated human beings\",\"people\",\"Despret\",\"their avid fanciers\",\"lovers of pigeons\",\"Despret\",\"her colleagues\",\"Despret\",\"Beatriz da Costa\",\"their fanciers\",\"a working-class men\"]     \n",
    "\n",
    "lenentiti = len(booknlpentities)\n",
    "                   \n",
    "booknlporg = [\"the Negev desert field site of the Israeli ornithologist Amotz Zahavi\",\"nonindustrial French farms\",\"the farm\",\"the chateau at Cerisy\",\"shared , often vexed public spaces\",\"innovative pigeon lofts\",\"Matali Crasset's Capsule\",\"the leisure park of Caudry\",\"a prototype pigeon loft\",\"this loft\",\"the ecological park\",\"a variegated nature reserve\",\"the village\",\"Cerisy\",\"Southern California\",\"Baghdad\",\"Damascus\",\"New York\",\"Berlin\",\"regions\",\"France\",\"Iran\",\"California\",\"Caudry\",\"the world\",\"the world\",\"The world in the southern Israeli desert\",\"the southern Israeli desert\",\"the world\",\"Western worlds\",\"Gobi Desert\",\"situated worlds\",\"the tissues of an earth whose very habitability is threatened\",\"an earth whose very habitability is threatened\",\"the world\",\"exhausted farmland\"]\n",
    "lenorg = len(booknlporg)\n",
    "lenentiti"
   ]
  },
  {
   "cell_type": "code",
   "execution_count": 56,
   "id": "76aa9da6-9298-4eb8-b251-e5bd4db83c4b",
   "metadata": {},
   "outputs": [],
   "source": [
    "falsePositiveNLP= [\"a philosopher\", \"a scientist who is allergic to denunciation and hungry for discovery , needy for what must be known and built together , with and for earthly beings\", \"They\", \"not who / what were anticipated either\", \"a trickster\", \"her\", \"she\", \"Arabian babblers who defied orthodox accounts of what birds should be doing , even as the scientists also acted off - script scientifically\", \"their scientists\", \"sober, nonromantic working breeders\", \"their people\", \"these breeders\"]"
   ]
  },
  {
   "cell_type": "code",
   "execution_count": 57,
   "id": "f009d66b-63f6-4519-a640-d7d48a703881",
   "metadata": {},
   "outputs": [
    {
     "data": {
      "text/plain": [
       "28"
      ]
     },
     "execution_count": 57,
     "metadata": {},
     "output_type": "execute_result"
    }
   ],
   "source": [
    "#ma entities\n",
    "ma_per = [\"Vinciane Despret\", \"singing blackbird\", \"Thelma Rowell\", \"Soay sheep\", \"Hannah Arendt\", \"Miss Manners\", \"Amotz Zahavi\", \"Arabian babblers\", \"Jocelyne Porcher\", \"Isabelle Stengers\", \"Virginia Woolf\", \"Beatriz da Costa\"  ]\n",
    "# oddper = [{\"Curiosity\": \"Curiosity always leads its practitioners a bit too far off the path, and that way lie stories.\"}]\n",
    "ma_general = [\"birds\", \"scientists\", \"observers\", \"a polite inquirer\", \"humans\", \"critters\", \"apparatuses\", \"farmers\", \"breeders\", \"pigs\", \"cows\", \"animals\", \"women\", \"camels\", \"father\", \"sons\", \"old man\", \"the heirs\", \"beasts\", \"anyone listening\", \"anyone attuned\", \"storyteller\", \"people\", \"racing pigeons, also called carrier pigeons\", \"fanciers\", \"collegues\", \"Matali Crasset\", \"colombophiles\", \"visitors\", \"avian voyageurs\"]\n",
    "ma_gpe = [\"Cerisy\", \"Southern California\", \"Baghdad\", \"Damascus\", \"New Yorl\", \"Berlin\", \"France\", \"Iran\", \"California\", \"Caudry\"]\n",
    "ma_loc = [\"Negev desert\", \"southern Israeli desert\" \"a world of propositions not available before\", \"nonindustrial French farms\", \"Western worlds\", \"village\", \"the mortal world\", \"markets\", \"places of travel and labour\", \"Worlds-at-stake\", \"Gobi desert\", \"chateau\", \"public spaces\", \"innovative pigeon lofts\", \"leisure park\", \"ecological park\", \"farmland\", \"nature reserve\"]\n",
    "ma_org = [\"The Beauvois association of carier pigeon fanciers\"]\n",
    "\n",
    "concepts = [{\"haraway\" : [\"vocation\", \"going visiting\", \"thinking-with\", \"rendering-capable\", \"worlding\", \"live and die\", \"multispecies flourishing\", \"fabulate\", \"response-ability\", \"earth-bound\", \"make a fuss\", \"cat's cradle\", \"ongoingness\", \"string figure games\", \"companion species\", \"past, present, yet to come (so far)\", \"they stay with the trouble\", \"speculative fabulation\" ]}, {\"Despret\": [\"the virtue of politeness\", \"anthropo-zoo-genesis\", \"make a fuss\", \"thinking from a heritage = loyalty\", \"start from\", \"inherit\"]}, {\"Arendt\" : [\"going-visiting\", \"make a fuss\"]}, {\"Birds and scientists\": [\"becoming-with\", \"create narratives\"]} ]\n",
    "conceptsinlist= [\"vocation\", \"going visiting\", \"thinking-with\", \"rendering-capable\", \"worlding\", \"live and die\", \"multispecies flourishing\", \"fabulate\", \"response-ability\", \"earth-bound\", \"make a fuss\", \"cat's cradle\", \"ongoingness\", \"string figure games\", \"companion species\", \"past, present, yet to come (so far)\", \"they stay with the trouble\", \"speculative fabulation\", \"the virtue of politeness\", \"anthropo-zoo-genesis\", \"make a fuss\", \"thinking from a heritage = loyalty\", \"start from\", \"inherit\", \"going-visiting\", \"make a fuss\",\"becoming-with\", \"create narratives\"]\n",
    "\n",
    "ma_general = ma_per+ma_general\n",
    "ma_locations = ma_loc+ma_gpe\n",
    "\n",
    "len(conceptsinlist)"
   ]
  },
  {
   "cell_type": "code",
   "execution_count": 58,
   "id": "f241a20b-add7-47b4-9a7a-7a45e4ae7e23",
   "metadata": {},
   "outputs": [
    {
     "data": {
      "text/plain": [
       "42"
      ]
     },
     "execution_count": 58,
     "metadata": {},
     "output_type": "execute_result"
    }
   ],
   "source": [
    "w = len(ma_general)\n",
    "w"
   ]
  },
  {
   "cell_type": "code",
   "execution_count": 59,
   "id": "767642ce-e3de-4fbc-af47-171e6f15ef89",
   "metadata": {},
   "outputs": [
    {
     "data": {
      "text/plain": [
       "'mylistofgeneral = []\\nfor x in ma_general:\\n    mylistofgeneral.append(0)\\n    \\nmylistoforg = []\\nfor x in ma_org_fac:\\n    mylistoforg.append(1)\\n\\n\\nmylistofloc = []\\nfor x in ma_locations:\\n    mylistofloc.append(2)'"
      ]
     },
     "execution_count": 59,
     "metadata": {},
     "output_type": "execute_result"
    }
   ],
   "source": [
    "\"\"\"mylistofgeneral = []\n",
    "for x in ma_general:\n",
    "    mylistofgeneral.append(0)\n",
    "    \n",
    "mylistoforg = []\n",
    "for x in ma_org_fac:\n",
    "    mylistoforg.append(1)\n",
    "\n",
    "\n",
    "mylistofloc = []\n",
    "for x in ma_locations:\n",
    "    mylistofloc.append(2)\"\"\""
   ]
  },
  {
   "cell_type": "code",
   "execution_count": 60,
   "id": "9e2df18d-69e9-4ada-b435-ca2d24b920a6",
   "metadata": {},
   "outputs": [
    {
     "data": {
      "text/plain": [
       "27"
      ]
     },
     "execution_count": 60,
     "metadata": {},
     "output_type": "execute_result"
    }
   ],
   "source": [
    "z = len(ma_locations)\n",
    "z"
   ]
  },
  {
   "cell_type": "code",
   "execution_count": 61,
   "id": "a0439c10-a55b-4550-8a43-ca890213e10f",
   "metadata": {},
   "outputs": [
    {
     "data": {
      "text/plain": [
       "'p = len(ma_org_fac)\\np'"
      ]
     },
     "execution_count": 61,
     "metadata": {},
     "output_type": "execute_result"
    }
   ],
   "source": [
    "\"\"\"p = len(ma_org_fac)\n",
    "p\"\"\""
   ]
  },
  {
   "cell_type": "code",
   "execution_count": 62,
   "id": "780fe0c7-60be-4af2-b3c0-afcc5f3fb9ab",
   "metadata": {},
   "outputs": [
    {
     "data": {
      "text/plain": [
       "42"
      ]
     },
     "execution_count": 62,
     "metadata": {},
     "output_type": "execute_result"
    }
   ],
   "source": [
    "w"
   ]
  },
  {
   "cell_type": "code",
   "execution_count": 63,
   "id": "b99992ad-2271-4ea4-9b79-e80fc38ebac7",
   "metadata": {},
   "outputs": [],
   "source": [
    "#classes have been set as follows: agents, that comprehend person and general entities such as animals. Then we have locations, comprehending gpe and loc values, and organisations, where there are organisations and fac elements.\n",
    "#nb person class includes also animals, since boonlp recognized some animals and put it as person.\n",
    "\n",
    "#nb: in this investigation, pronoum have been cutting off.\n",
    "\n",
    "#three classes\n",
    "# 0 = agents\n",
    "# 1 = organizations\n",
    "# 2 = locations (FAC, GPE, LOC)\n",
    "# 3 = concepts\n",
    "classes = (0, 1, 2, 3)\n"
   ]
  },
  {
   "cell_type": "code",
   "execution_count": 64,
   "id": "bf4236b6-5b47-4180-918e-e5d497e6376d",
   "metadata": {},
   "outputs": [
    {
     "name": "stdout",
     "output_type": "stream",
     "text": [
      "Defaulting to user installation because normal site-packages is not writeable\n",
      "Requirement already satisfied: pycm in c:\\users\\margaret\\appdata\\roaming\\python\\python310\\site-packages (4.0)\n",
      "Requirement already satisfied: art>=1.8 in c:\\users\\margaret\\appdata\\roaming\\python\\python310\\site-packages (from pycm) (6.0)\n",
      "Requirement already satisfied: numpy>=1.9.0 in c:\\users\\margaret\\appdata\\roaming\\python\\python310\\site-packages (from pycm) (1.22.2)\n"
     ]
    },
    {
     "name": "stderr",
     "output_type": "stream",
     "text": [
      "Error processing line 1 of C:\\Users\\MARGARET\\AppData\\Roaming\\Python\\Python310\\site-packages\\vision-1.0.0-py3.10-nspkg.pth:\n",
      "\n",
      "  Traceback (most recent call last):\n",
      "    File \"C:\\Program Files\\Python310\\lib\\site.py\", line 186, in addpackage\n",
      "      exec(line)\n",
      "    File \"<string>\", line 1, in <module>\n",
      "    File \"<frozen importlib._bootstrap>\", line 568, in module_from_spec\n",
      "  AttributeError: 'NoneType' object has no attribute 'loader'\n",
      "\n",
      "Remainder of file ignored\n",
      "WARNING: There was an error checking the latest version of pip.\n"
     ]
    }
   ],
   "source": [
    "!pip install pycm"
   ]
  },
  {
   "cell_type": "code",
   "execution_count": 65,
   "id": "5ed4f272-2735-4142-9856-37b5842c536d",
   "metadata": {},
   "outputs": [],
   "source": [
    "from pycm import *"
   ]
  },
  {
   "cell_type": "code",
   "execution_count": 66,
   "id": "8c571d09-f5d6-4b3f-95bf-7bb74b668f7e",
   "metadata": {},
   "outputs": [],
   "source": [
    "y_pred = [1,0,0,0,0,0,0,0,0,0,0,0,0,0,0,0,0,0,0,0,0,0,0,0,0,0,0,0,0,0,0,0,0,0,0,0,0,0,0,0,0,0,0,0,0,0,0,0,0,0,0,0,0,0,0,0,0,0,0,0,0,0,0,0,0,0,0,0,0,0,0,0,0,0,0,0,0,0,0,0,0,0,0,0,0,0,0,0,0,0,0,0,0,0,0,0,0,0,0,0,0,0,0,0,0,0,0,0,0,0,0,0,0,0,0,0,0,0,0,0,0,0,0,0,0,0,0,0,0,0,0,0,0,0,0,0,0,0,0,0,0,0,0,0,0,0,0,0,0,0,2,2,2,2,2,2,2,2,2,2,2,2,2,2,2,2,2,2,2,2,2,2,2,2,2,2,2,2,2,2,2,2,2,2,2,2]\n",
    "y_actu = [3,3,3,3,3,3,3,3,3,3,3,3,3,3,3,3,3,3,3,3,3,3,3,3,3,3,3,3,0,0,0,0,0,0,0,0,0,0,0,0,0,0,0,0,0,0,0,0,0,0,0,0,0,0,0,0,0,0,0,0,0,0,0,0,0,0,0,0,0,0,0,0,0,0,0,0,0,0,0,0,0,0,0,0,0,0,0,0,0,0,0,0,0,0,0,0,0,0,0,0,0,0,0,0,0,0,0,0,0,0,0,0,0,0,0,0,0,0,0,0,0,0,0,0,0,0,0,0,0,0,0,0,0,0,0,0,0,0,0,0,0,0,0,0,0,0,0,0,0,0,0,0,0,0,0,0,0,0,1,2,2,2,2,2,2,2,2,2,2,2,2,2,2,2,2,2,2,2,2,2,2,2,2,2,2,2]"
   ]
  },
  {
   "cell_type": "code",
   "execution_count": 67,
   "id": "57bdda0c-a735-4cfb-91ec-d3e80cf152ea",
   "metadata": {},
   "outputs": [
    {
     "name": "stdout",
     "output_type": "stream",
     "text": [
      "Predict   0         1         2         3         \n",
      "Actual\n",
      "0         122       0         8         0         \n",
      "\n",
      "1         0         0         1         0         \n",
      "\n",
      "2         0         0         27        0         \n",
      "\n",
      "3         27        1         0         0         \n",
      "\n",
      "\n",
      "\n",
      "\n",
      "\n",
      "Overall Statistics : \n",
      "\n",
      "95% CI                                                            (0.74371,0.85844)\n",
      "ACC Macro                                                         0.90054\n",
      "ARI                                                               0.45992\n",
      "AUNP                                                              0.72792\n",
      "AUNU                                                              0.67429\n",
      "Bangdiwala B                                                      0.76749\n",
      "Bennett S                                                         0.73477\n",
      "CBA                                                               0.3922\n",
      "CSI                                                               None\n",
      "Chi-Squared                                                       None\n",
      "Chi-Squared DF                                                    9\n",
      "Conditional Entropy                                               0.26657\n",
      "Cramer V                                                          None\n",
      "Cross Entropy                                                     0.6081\n",
      "F1 Macro                                                          0.43292\n",
      "F1 Micro                                                          0.80108\n",
      "FNR Macro                                                         0.51538\n",
      "FNR Micro                                                         0.19892\n",
      "FPR Macro                                                         0.13604\n",
      "FPR Micro                                                         0.06631\n",
      "Gwet AC1                                                          0.7702\n",
      "Hamming Loss                                                      0.19892\n",
      "Joint Entropy                                                     1.48371\n",
      "KL Divergence                                                     None\n",
      "Kappa                                                             0.51715\n",
      "Kappa 95% CI                                                      (0.3779,0.65641)\n",
      "Kappa No Prevalence                                               0.60215\n",
      "Kappa Standard Error                                              0.07105\n",
      "Kappa Unbiased                                                    0.50654\n",
      "Krippendorff Alpha                                                0.50787\n",
      "Lambda A                                                          0.35714\n",
      "Lambda B                                                          0.75676\n",
      "Mutual Information                                                0.48886\n",
      "NIR                                                               0.69892\n",
      "NPV Macro                                                         0.90696\n",
      "NPV Micro                                                         0.93369\n",
      "Overall ACC                                                       0.80108\n",
      "Overall CEN                                                       0.17677\n",
      "Overall J                                                         (1.52707,0.38177)\n",
      "Overall MCC                                                       0.55003\n",
      "Overall MCEN                                                      0.23191\n",
      "Overall RACC                                                      0.58802\n",
      "Overall RACCU                                                     0.59688\n",
      "P-Value                                                           0.00111\n",
      "PPV Macro                                                         None\n",
      "PPV Micro                                                         0.80108\n",
      "Pearson C                                                         None\n",
      "Phi-Squared                                                       None\n",
      "RCI                                                               0.40165\n",
      "RR                                                                46.5\n",
      "Reference Entropy                                                 1.21714\n",
      "Response Entropy                                                  0.75543\n",
      "SOA1(Landis & Koch)                                               Moderate\n",
      "SOA2(Fleiss)                                                      Intermediate to Good\n",
      "SOA3(Altman)                                                      Moderate\n",
      "SOA4(Cicchetti)                                                   Fair\n",
      "SOA5(Cramer)                                                      None\n",
      "SOA6(Matthews)                                                    Moderate\n",
      "SOA7(Lambda A)                                                    Weak\n",
      "SOA8(Lambda B)                                                    Strong\n",
      "SOA9(Krippendorff Alpha)                                          Low\n",
      "SOA10(Pearson C)                                                  None\n",
      "Scott PI                                                          0.50654\n",
      "Standard Error                                                    0.02927\n",
      "TNR Macro                                                         0.86396\n",
      "TNR Micro                                                         0.93369\n",
      "TPR Macro                                                         0.48462\n",
      "TPR Micro                                                         0.80108\n",
      "Zero-one Loss                                                     37\n",
      "\n",
      "Class Statistics :\n",
      "\n",
      "Classes                                                           0             1             2             3             \n",
      "ACC(Accuracy)                                                     0.81183       0.98925       0.95161       0.84946       \n",
      "AGF(Adjusted F-score)                                             0.80505       0.0           0.96249       0.0           \n",
      "AGM(Adjusted geometric mean)                                      0.65564       0             0.95843       0             \n",
      "AM(Difference between automatic and manual classification)        19            0             9             -28           \n",
      "AUC(Area under the ROC curve)                                     0.72816       0.4973        0.9717        0.5           \n",
      "AUCI(AUC value interpretation)                                    Good          Poor          Excellent     Poor          \n",
      "AUPR(Area under the PR curve)                                     0.87863       0.0           0.875         None          \n",
      "BB(Braun-Blanquet similarity)                                     0.81879       0.0           0.75          0.0           \n",
      "BCD(Bray-Curtis dissimilarity)                                    0.05108       0.0           0.02419       0.07527       \n",
      "BM(Informedness or bookmaker informedness)                        0.45632       -0.00541      0.9434        0.0           \n",
      "CEN(Confusion entropy)                                            0.18297       0.38685       0.18296       0.08599       \n",
      "DOR(Diagnostic odds ratio)                                        16.37963      0.0           None          None          \n",
      "DP(Discriminant power)                                            0.66948       None          None          None          \n",
      "DPI(Discriminant power interpretation)                            Poor          None          None          None          \n",
      "ERR(Error rate)                                                   0.18817       0.01075       0.04839       0.15054       \n",
      "F0.5(F0.5 score)                                                  0.84022       0.0           0.78947       0.0           \n",
      "F1(F1 score - harmonic mean of precision and sensitivity)         0.87455       0.0           0.85714       0.0           \n",
      "F2(F2 score)                                                      0.91181       0.0           0.9375        0.0           \n",
      "FDR(False discovery rate)                                         0.18121       1.0           0.25          None          \n",
      "FN(False negative/miss/type 2 error)                              8             1             0             28            \n",
      "FNR(Miss rate or false negative rate)                             0.06154       1.0           0.0           1.0           \n",
      "FOR(False omission rate)                                          0.21622       0.00541       0.0           0.15054       \n",
      "FP(False positive/type 1 error/false alarm)                       27            1             9             0             \n",
      "FPR(Fall-out or false positive rate)                              0.48214       0.00541       0.0566        0.0           \n",
      "G(G-measure geometric mean of precision and sensitivity)          0.87659       0.0           0.86603       None          \n",
      "GI(Gini index)                                                    0.45632       -0.00541      0.9434        0.0           \n",
      "GM(G-mean geometric mean of specificity and sensitivity)          0.69713       0.0           0.97129       0.0           \n",
      "HD(Hamming distance)                                              35            2             9             28            \n",
      "IBA(Index of balanced accuracy)                                   0.6904        0.0           0.9968        0.0           \n",
      "ICSI(Individual classification success index)                     0.75725       -1.0          0.75          None          \n",
      "IS(Information score)                                             0.22836       None          2.36923       None          \n",
      "J(Jaccard index)                                                  0.77707       0.0           0.75          0.0           \n",
      "LS(Lift score)                                                    1.1715        0.0           5.16667       None          \n",
      "MCC(Matthews correlation coefficient)                             0.52437       -0.00541      0.84116       None          \n",
      "MCCI(Matthews correlation coefficient interpretation)             Moderate      Negligible    Strong        None          \n",
      "MCEN(Modified confusion entropy)                                  0.25362       0.38685       0.2421        0.08599       \n",
      "MK(Markedness)                                                    0.60258       -0.00541      0.75          None          \n",
      "N(Condition negative)                                             56            185           159           158           \n",
      "NLR(Negative likelihood ratio)                                    0.11883       1.00543       0.0           1.0           \n",
      "NLRI(Negative likelihood ratio interpretation)                    Fair          Negligible    Good          Negligible    \n",
      "NPV(Negative predictive value)                                    0.78378       0.99459       1.0           0.84946       \n",
      "OC(Overlap coefficient)                                           0.93846       0.0           1.0           None          \n",
      "OOC(Otsuka-Ochiai coefficient)                                    0.87659       0.0           0.86603       None          \n",
      "OP(Optimized precision)                                           0.52301       -0.01075      0.92249       -0.15054      \n",
      "P(Condition positive or support)                                  130           1             27            28            \n",
      "PLR(Positive likelihood ratio)                                    1.94644       0.0           17.66667      None          \n",
      "PLRI(Positive likelihood ratio interpretation)                    Poor          Negligible    Good          None          \n",
      "POP(Population)                                                   186           186           186           186           \n",
      "PPV(Precision or positive predictive value)                       0.81879       0.0           0.75          None          \n",
      "PRE(Prevalence)                                                   0.69892       0.00538       0.14516       0.15054       \n",
      "Q(Yule Q - coefficient of colligation)                            0.88492       -1.0          None          None          \n",
      "QI(Yule Q interpretation)                                         Strong        Negligible    None          None          \n",
      "RACC(Random accuracy)                                             0.55989       3e-05         0.0281        0.0           \n",
      "RACCU(Random accuracy unbiased)                                   0.5625        3e-05         0.02868       0.00567       \n",
      "TN(True negative/correct rejection)                               29            184           150           158           \n",
      "TNR(Specificity or true negative rate)                            0.51786       0.99459       0.9434        1.0           \n",
      "TON(Test outcome negative)                                        37            185           150           186           \n",
      "TOP(Test outcome positive)                                        149           1             36            0             \n",
      "TP(True positive/hit)                                             122           0             27            0             \n",
      "TPR(Sensitivity, recall, hit rate, or true positive rate)         0.93846       0.0           1.0           0.0           \n",
      "Y(Youden index)                                                   0.45632       -0.00541      0.9434        0.0           \n",
      "dInd(Distance index)                                              0.48605       1.00001       0.0566        1.0           \n",
      "sInd(Similarity index)                                            0.65631       0.29288       0.95998       0.29289       \n",
      "\n"
     ]
    }
   ],
   "source": [
    "cm = ConfusionMatrix(y_actu, y_pred)\n",
    "\n",
    "print(cm)"
   ]
  },
  {
   "cell_type": "markdown",
   "id": "efc9ea51-ed88-4f6c-96c2-b52a030980e9",
   "metadata": {},
   "source": [
    "## Classifier (C-Support vector)\n",
    "Support Vector Machines (SVM) have been used successfully in many Natural Lan- guage Processing (NLP) tasks. This paper investigates two techniques to help SVM deal with the two unique features of NLP problems, namely imbalanced training data and the difficulty of obtaining sufficient training data."
   ]
  },
  {
   "cell_type": "code",
   "execution_count": 68,
   "id": "ff7dfe3c-f930-4200-abef-002953107783",
   "metadata": {},
   "outputs": [
    {
     "data": {
      "text/plain": [
       "{0: 0.6025757300925086, 1: 0.005405405405405406, 2: 0.75, 3: 'None'}"
      ]
     },
     "execution_count": 68,
     "metadata": {},
     "output_type": "execute_result"
    }
   ],
   "source": [
    "cm.distance(metric=DistanceType.AMPLE)"
   ]
  },
  {
   "cell_type": "code",
   "execution_count": 69,
   "id": "485c6f38-f149-4ab8-a609-6a1ef8ad84d1",
   "metadata": {},
   "outputs": [
    {
     "name": "stdout",
     "output_type": "stream",
     "text": [
      "Predict   0         1         2         3         \n",
      "Actual\n",
      "0         122       0         8         0         \n",
      "\n",
      "1         0         0         1         0         \n",
      "\n",
      "2         0         0         27        0         \n",
      "\n",
      "3         27        1         0         0         \n",
      "\n",
      "\n"
     ]
    }
   ],
   "source": [
    "cm.print_matrix()"
   ]
  },
  {
   "cell_type": "code",
   "execution_count": 70,
   "id": "6af62458-944b-4daa-8d03-0478f6237189",
   "metadata": {},
   "outputs": [
    {
     "name": "stdout",
     "output_type": "stream",
     "text": [
      "Predict       0             1             2             3             \n",
      "Actual\n",
      "0             0.93846       0.0           0.06154       0.0           \n",
      "\n",
      "1             0.0           0.0           1.0           0.0           \n",
      "\n",
      "2             0.0           0.0           1.0           0.0           \n",
      "\n",
      "3             0.96429       0.03571       0.0           0.0           \n",
      "\n",
      "\n"
     ]
    }
   ],
   "source": [
    "cm.print_normalized_matrix()"
   ]
  },
  {
   "cell_type": "code",
   "execution_count": 71,
   "id": "3f354176-9288-4660-b883-4f4e2d86dc54",
   "metadata": {},
   "outputs": [
    {
     "data": {
      "text/plain": [
       "0.8010752688172043"
      ]
     },
     "execution_count": 71,
     "metadata": {},
     "output_type": "execute_result"
    }
   ],
   "source": [
    "cm.Overall_ACC"
   ]
  },
  {
   "cell_type": "code",
   "execution_count": 72,
   "id": "b39eebd8-d95b-4156-9936-d3533443df50",
   "metadata": {},
   "outputs": [],
   "source": [
    "import numpy as np\n",
    "import matplotlib.pyplot as plt\n",
    "import itertools\n",
    "from pycm import ConfusionMatrix\n",
    "\n",
    "def plot_confusion_matrix(cm,\n",
    "                          normalize=False,\n",
    "                          title='Confusion matrix',\n",
    "                          cmap=plt.cm.Blues):\n",
    "    \"\"\"\n",
    "    This function modified to plots the ConfusionMatrix object.\n",
    "    Normalization can be applied by setting `normalize=True`.\n",
    "    \n",
    "    Code Reference : \n",
    "    http://scikit-learn.org/stable/auto_examples/model_selection/plot_confusion_matrix.html\n",
    "    \n",
    "    \"\"\"\n",
    "\n",
    "    plt_cm = []\n",
    "    for i in cm.classes :\n",
    "        row=[]\n",
    "        for j in cm.classes:\n",
    "            row.append(cm.table[i][j])\n",
    "        plt_cm.append(row)\n",
    "    plt_cm = np.array(plt_cm)\n",
    "    if normalize:\n",
    "        plt_cm = plt_cm.astype('float') / plt_cm.sum(axis=1)[:, np.newaxis]     \n",
    "    plt.imshow(plt_cm, interpolation='nearest', cmap=cmap)\n",
    "    plt.title(title)\n",
    "    plt.colorbar()\n",
    "    tick_marks = np.arange(len(cm.classes))\n",
    "    plt.xticks(tick_marks, cm.classes, rotation=45)\n",
    "    plt.yticks(tick_marks, cm.classes)\n",
    "\n",
    "    fmt = '.2f' if normalize else 'd'\n",
    "    thresh = plt_cm.max() / 2.\n",
    "    for i, j in itertools.product(range(plt_cm.shape[0]), range(plt_cm.shape[1])):\n",
    "        plt.text(j, i, format(plt_cm[i, j], fmt),\n",
    "                 horizontalalignment=\"center\",\n",
    "                 color=\"white\" if plt_cm[i, j] > thresh else \"black\")\n",
    "\n",
    "    plt.tight_layout()\n",
    "    plt.ylabel('Actual')\n",
    "    plt.xlabel('Predict')"
   ]
  },
  {
   "cell_type": "code",
   "execution_count": 73,
   "id": "16c19c76-7df5-4d45-a433-7e764e5314fb",
   "metadata": {},
   "outputs": [
    {
     "data": {
      "image/png": "[encoded data removed]",
      "text/plain": [
       "<Figure size 432x288 with 2 Axes>"
      ]
     },
     "metadata": {
      "needs_background": "light"
     },
     "output_type": "display_data"
    },
    {
     "data": {
      "image/png": "[encoded data removed]",
      "text/plain": [
       "<Figure size 432x288 with 2 Axes>"
      ]
     },
     "metadata": {
      "needs_background": "light"
     },
     "output_type": "display_data"
    }
   ],
   "source": [
    "\n",
    "plt.figure()\n",
    "plot_confusion_matrix(cm,title='cm')\n",
    "plt.figure()\n",
    "plot_confusion_matrix(cm,title='cm(Normalized)', normalize=True)\n",
    "plt.show()"
   ]
  },
  {
   "cell_type": "raw",
   "id": "988bdf89-d902-4ccd-b79f-c04b0edec942",
   "metadata": {},
   "source": [
    "source: Haghighi, S., Jasemi, M., Hessabi, S. and Zolanvari, A. (2018). PyCM: Multiclass confusion matrix library in Python.\n",
    "Journal of Open Source Software, 3(25), p.729."
   ]
  },
  {
   "cell_type": "code",
   "execution_count": 74,
   "id": "ac80b600-c249-41c3-a3b5-559a15fbc812",
   "metadata": {},
   "outputs": [],
   "source": [
    "y_actual = [1, 1, 0, 1, 1, 0]\n",
    "y_pred = [0.65, 0.7, 0.4, 0.54, 0.82, 0.9]"
   ]
  },
  {
   "cell_type": "code",
   "execution_count": 75,
   "id": "6ce915e2-ebdb-4fc3-887f-1c68ebdb1a49",
   "metadata": {},
   "outputs": [],
   "source": [
    "from pandas import *\n",
    "import seaborn as sns\n",
    "from pycm import *\n",
    "import numpy as np"
   ]
  },
  {
   "cell_type": "code",
   "execution_count": 76,
   "id": "99efc145-9ecc-4321-84b1-6c587c56cd86",
   "metadata": {},
   "outputs": [],
   "source": [
    "def plot_confusion_matrix(cm,normalize=False, title='Confusion matrix', annot=False, cmap=\"YlGnBu\"):\n",
    "    if normalize == True:\n",
    "        df = DataFrame(cm.normalized_matrix).T.fillna(0)\n",
    "    else:\n",
    "        df = DataFrame(cm.matrix).T.fillna(0)\n",
    "    ax = sns.heatmap(df, annot=annot, cmap=cmap)\n",
    "    ax.set_title(title)\n",
    "    ax.set(xlabel='Predict', ylabel='Actual')"
   ]
  },
  {
   "cell_type": "code",
   "execution_count": 77,
   "id": "418cb3d0-afde-469b-97d8-9fa8effbc61c",
   "metadata": {},
   "outputs": [
    {
     "data": {
      "image/png": "[encoded data removed]",
      "text/plain": [
       "<Figure size 432x288 with 2 Axes>"
      ]
     },
     "metadata": {
      "needs_background": "light"
     },
     "output_type": "display_data"
    }
   ],
   "source": [
    "np.random.seed(100)\n",
    "x1 = np.random.randint(low=0, high=3, size=20000)\n",
    "x2 = np.random.randint(low=0, high=3, size=20000)\n",
    "cm1 = ConfusionMatrix(x1, x2)\n",
    "plot_confusion_matrix(cm1, title=\"cm1\", annot=True)"
   ]
  },
  {
   "cell_type": "code",
   "execution_count": 78,
   "id": "fa4fa9f5-6585-4a62-a891-a1f88fb51a04",
   "metadata": {},
   "outputs": [
    {
     "data": {
      "image/png": "[encoded data removed]",
      "text/plain": [
       "<Figure size 432x288 with 2 Axes>"
      ]
     },
     "metadata": {
      "needs_background": "light"
     },
     "output_type": "display_data"
    }
   ],
   "source": [
    "plot_confusion_matrix(cm1,normalize=True, title=\"cm1(Normalized)\", annot=True)"
   ]
  },
  {
   "cell_type": "code",
   "execution_count": 79,
   "id": "583e5daf-2690-4614-8adf-4ab3dd1979d6",
   "metadata": {},
   "outputs": [
    {
     "data": {
      "image/png": "[encoded data removed]",
      "text/plain": [
       "<Figure size 432x288 with 2 Axes>"
      ]
     },
     "metadata": {
      "needs_background": "light"
     },
     "output_type": "display_data"
    }
   ],
   "source": [
    "plot_confusion_matrix(cm, normalize=True, title=\"cm2(Normalized)\")"
   ]
  }
 ],
 "metadata": {
  "kernelspec": {
   "display_name": "Python 3 (ipykernel)",
   "language": "python",
   "name": "python3"
  },
  "language_info": {
   "codemirror_mode": {
    "name": "ipython",
    "version": 3
   },
   "file_extension": ".py",
   "mimetype": "text/x-python",
   "name": "python",
   "nbconvert_exporter": "python",
   "pygments_lexer": "ipython3",
   "version": "3.10.0"
  }
 },
 "nbformat": 4,
 "nbformat_minor": 5
}
