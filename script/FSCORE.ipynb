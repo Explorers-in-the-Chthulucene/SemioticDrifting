{
 "cells": [
  {
   "cell_type": "markdown",
   "id": "ede4dc59-147d-42d3-8005-e3a735560e09",
   "metadata": {},
   "source": [
    "# Named Entity Recognition Review"
   ]
  },
  {
   "cell_type": "code",
   "execution_count": 60,
   "id": "85edb68d-7cae-4465-a3af-a91df8327738",
   "metadata": {},
   "outputs": [
    {
     "data": {
      "text/plain": [
       "149"
      ]
     },
     "execution_count": 60,
     "metadata": {},
     "output_type": "execute_result"
    }
   ],
   "source": [
    "#booknlp entities (positive)\n",
    "\n",
    "booknlpentities = [\"Vinciane Despret\",\"other beings\",\"Despret\",\"beings\",\"Despret\",\"others\",\"all the players\",\"a philosopher\",\"scientists\",\"Thelma Rowell\",\"Despret\",\"Despret\",\"Arendt\",\"others\",\"ones interlocutors\",\"one\",\"its practitioners\",\"Despret\",\"Despret\",\"one\",\"the choreographer\",\"a trickster\",\"another\",\"everybody\",\"a polite inquirer\",\"Miss Manners\",\"Despret\",\"the Israeli ornithologist Amotz Zahavi\",\"Amotz Zahavi\",\"the scientists\",\"Zahavi\",\"babblers\",\"The babblers\",\"Zahavi\",\"Zahavi\",\"the babblers\",\"one another\",\"each other\",\"an endangered comrade\",\"Zahavi\",\"Despret\",\"scientists\",\"their scientists\",\"observers\",\"Birds\",\"scientists\",\"their observers\",\"Zahavi\",\"babblers\",\"Despret\",\"scientists\",\"Birds\",\"scientists\",\"each other\",\"the babblers\",\"the scientists\",\"Despret\",\"humans\",\"babblers\",\"Despret\",\"people\",\"people\",\"Despret\",\"sociologist Jocelyne Porcher\",\"the farmers\",\"Despret\",\"Porcher\",\"cow and pig breeders\",\"the humans\",\"sober , nonromantic , working breeders\",\"Despret\",\"Porcher\",\"the farmers\",\"their people\",\"the breeders\",\"the breeders\",\"people\",\"these breeders\",\"The breeders\",\"the researchers\",\"the breeders\",\"people\",\"Farmers\",\"their peers\",\"The animals\",\"their farmers\",\"good breeders\",\"the other\",\"humans\",\"humans that nourish animals\",\"Despret\",\"their people\",\"human people on the menu\",\"Vinciane Despret\",\"an extraordinary collective of bumptious women\",\"Virginia Woolf\",\"women\",\"the patrilines\",\"Virginia Woolf\",\"any other woman\",\"men for that matter\",\"people\",\"Hannah Arendt\",\"Virginia Woolf\",\"unexpected,non-natal kin\",\"Visiting\",\"the babblers\",\"the storytellers\",\"Arendt\",\"Woolf\",\"Despret\",\"her collaborators\",\"women who make a fuss\",\"the True\",\"we\",\"Despret\",\"Despret\",\"Isabelle Stengers\",\"the father\",\"the eldest son\",\"the second son\",\"an old man living in the village\",\"the sons\",\"the heirs\",\"the old man\",\"Despret\",\"the problematic sons\",\"Despret\",\"anybody\",\"anyone listening\",\"anyone attuned\",\"Long-legged,big-lipped,humped camels\",\"the storyteller\",\"Despret\",\"their people\",\"people\",\"each other\",\"Despret\",\"situated human beings\",\"people\",\"Despret\",\"their avid fanciers\",\"lovers of pigeons\",\"Despret\",\"her colleagues\",\"Despret\",\"Beatriz da Costa\",\"their fanciers\",\"a working-class men\"]     \n",
    "\n",
    "lenentiti = len(booknlpentities)\n",
    "                   \n",
    "booknlporg = [\"the Negev desert field site of the Israeli ornithologist Amotz Zahavi\",\"nonindustrial French farms\",\"the farm\",\"the chateau at Cerisy\",\"shared , often vexed public spaces\",\"innovative pigeon lofts\",\"Matali Crasset's Capsule\",\"the leisure park of Caudry\",\"a prototype pigeon loft\",\"this loft\",\"the ecological park\",\"a variegated nature reserve\",\"the village\",\"Cerisy\",\"Southern California\",\"Baghdad\",\"Damascus\",\"New York\",\"Berlin\",\"regions\",\"France\",\"Iran\",\"California\",\"Caudry\",\"the world\",\"the world\",\"The world in the southern Israeli desert\",\"the southern Israeli desert\",\"the world\",\"Western worlds\",\"Gobi Desert\",\"situated worlds\",\"the tissues of an earth whose very habitability is threatened\",\"an earth whose very habitability is threatened\",\"the world\",\"exhausted farmland\"]\n",
    "lenorg = len(booknlporg)\n",
    "lenentiti"
   ]
  },
  {
   "cell_type": "code",
   "execution_count": null,
   "id": "76aa9da6-9298-4eb8-b251-e5bd4db83c4b",
   "metadata": {},
   "outputs": [],
   "source": [
    "falsePositiveNLP= [\"a philosopher\", \"a scientist who is allergic to denunciation and hungry for discovery , needy for what must be known and built together , with and for earthly beings\", \"They\", \"not who / what were anticipated either\", \"a trickster\", \"her\", \"she\", \"Arabian babblers who defied orthodox accounts of what birds should be doing , even as the scientists also acted off - script scientifically\", \"their scientists\", \"sober, nonromantic working breeders\", \"their people\", \"these breeders\"]"
   ]
  },
  {
   "cell_type": "code",
   "execution_count": 37,
   "id": "f009d66b-63f6-4519-a640-d7d48a703881",
   "metadata": {},
   "outputs": [
    {
     "data": {
      "text/plain": [
       "28"
      ]
     },
     "execution_count": 37,
     "metadata": {},
     "output_type": "execute_result"
    }
   ],
   "source": [
    "#ma entities\n",
    "ma_per = [\"Vinciane Despret\", \"singing blackbird\", \"Thelma Rowell\", \"Soay sheep\", \"Hannah Arendt\", \"Miss Manners\", \"Amotz Zahavi\", \"Arabian babblers\", \"Jocelyne Porcher\", \"Isabelle Stengers\", \"Virginia Woolf\", \"Beatriz da Costa\"  ]\n",
    "# oddper = [{\"Curiosity\": \"Curiosity always leads its practitioners a bit too far off the path, and that way lie stories.\"}]\n",
    "ma_general = [\"birds\", \"scientists\", \"observers\", \"a polite inquirer\", \"humans\", \"critters\", \"apparatuses\", \"farmers\", \"breeders\", \"pigs\", \"cows\", \"animals\", \"women\", \"camels\", \"father\", \"sons\", \"old man\", \"the heirs\", \"beasts\", \"anyone listening\", \"anyone attuned\", \"storyteller\", \"people\", \"racing pigeons, also called carrier pigeons\", \"fanciers\", \"collegues\", \"Matali Crasset\", \"colombophiles\", \"visitors\", \"avian voyageurs\"]\n",
    "ma_gpe = [\"Cerisy\", \"Southern California\", \"Baghdad\", \"Damascus\", \"New Yorl\", \"Berlin\", \"France\", \"Iran\", \"California\", \"Caudry\"]\n",
    "ma_loc = [\"Negev desert\", \"southern Israeli desert\" \"a world of propositions not available before\", \"nonindustrial French farms\", \"Western worlds\", \"village\", \"the mortal world\", \"markets\", \"places of travel and labour\", \"Worlds-at-stake\", \"Gobi desert\", \"chateau\", \"public spaces\", \"innovative pigeon lofts\", \"leisure park\", \"ecological park\", \"farmland\", \"nature reserve\"]\n",
    "ma_org = [\"The Beauvois association of carier pigeon fanciers\"]\n",
    "\n",
    "concepts = [{\"haraway\" : [\"vocation\", \"going visiting\", \"thinking-with\", \"rendering-capable\", \"worlding\", \"live and die\", \"multispecies flourishing\", \"fabulate\", \"response-ability\", \"earth-bound\", \"make a fuss\", \"cat's cradle\", \"ongoingness\", \"string figure games\", \"companion species\", \"past, present, yet to come (so far)\", \"they stay with the trouble\", \"speculative fabulation\" ]}, {\"Despret\": [\"the virtue of politeness\", \"anthropo-zoo-genesis\", \"make a fuss\", \"thinking from a heritage = loyalty\", \"start from\", \"inherit\"]}, {\"Arendt\" : [\"going-visiting\", \"make a fuss\"]}, {\"Birds and scientists\": [\"becoming-with\", \"create narratives\"]} ]\n",
    "conceptsinlist= [\"vocation\", \"going visiting\", \"thinking-with\", \"rendering-capable\", \"worlding\", \"live and die\", \"multispecies flourishing\", \"fabulate\", \"response-ability\", \"earth-bound\", \"make a fuss\", \"cat's cradle\", \"ongoingness\", \"string figure games\", \"companion species\", \"past, present, yet to come (so far)\", \"they stay with the trouble\", \"speculative fabulation\", \"the virtue of politeness\", \"anthropo-zoo-genesis\", \"make a fuss\", \"thinking from a heritage = loyalty\", \"start from\", \"inherit\", \"going-visiting\", \"make a fuss\",\"becoming-with\", \"create narratives\"]\n",
    "\n",
    "ma_general = ma_per+ma_general\n",
    "ma_locations = ma_loc+ma_gpe\n",
    "\n",
    "len(conceptsinlist)"
   ]
  },
  {
   "cell_type": "code",
   "execution_count": 59,
   "id": "f241a20b-add7-47b4-9a7a-7a45e4ae7e23",
   "metadata": {},
   "outputs": [
    {
     "data": {
      "text/plain": [
       "42"
      ]
     },
     "execution_count": 59,
     "metadata": {},
     "output_type": "execute_result"
    }
   ],
   "source": [
    "w = len(ma_general)\n",
    "w"
   ]
  },
  {
   "cell_type": "code",
   "execution_count": 36,
   "id": "767642ce-e3de-4fbc-af47-171e6f15ef89",
   "metadata": {},
   "outputs": [],
   "source": [
    "mylistofgeneral = []\n",
    "for x in ma_general:\n",
    "    mylistofgeneral.append(0)\n",
    "    \n",
    "mylistoforg = []\n",
    "for x in ma_org_fac:\n",
    "    mylistoforg.append(1)\n",
    "\n",
    "\n",
    "mylistofloc = []\n",
    "for x in ma_locations:\n",
    "    mylistofloc.append(2)"
   ]
  },
  {
   "cell_type": "code",
   "execution_count": 20,
   "id": "9e2df18d-69e9-4ada-b435-ca2d24b920a6",
   "metadata": {},
   "outputs": [
    {
     "data": {
      "text/plain": [
       "27"
      ]
     },
     "execution_count": 20,
     "metadata": {},
     "output_type": "execute_result"
    }
   ],
   "source": [
    "z = len(ma_locations)\n",
    "z"
   ]
  },
  {
   "cell_type": "code",
   "execution_count": 21,
   "id": "a0439c10-a55b-4550-8a43-ca890213e10f",
   "metadata": {},
   "outputs": [
    {
     "data": {
      "text/plain": [
       "1"
      ]
     },
     "execution_count": 21,
     "metadata": {},
     "output_type": "execute_result"
    }
   ],
   "source": [
    "p = len(ma_org_fac)\n",
    "p"
   ]
  },
  {
   "cell_type": "code",
   "execution_count": null,
   "id": "780fe0c7-60be-4af2-b3c0-afcc5f3fb9ab",
   "metadata": {},
   "outputs": [],
   "source": [
    "w"
   ]
  },
  {
   "cell_type": "code",
   "execution_count": 43,
   "id": "b99992ad-2271-4ea4-9b79-e80fc38ebac7",
   "metadata": {},
   "outputs": [],
   "source": [
    "#classes have been set as follows: agents, that comprehend person and general entities such as animals. Then we have locations, comprehending gpe and loc values, and organisations, where there are organisations and fac elements.\n",
    "#nb person class includes also animals, since boonlp recognized some animals and put it as person.\n",
    "\n",
    "#nb: in this investigation, pronoum have been cutting off.\n",
    "\n",
    "#three classes\n",
    "# 0 = agents\n",
    "# 1 = organizations\n",
    "# 2 = locations (FAC, GPE, LOC)\n",
    "# 3 = concepts\n",
    "classes = (0, 1, 2, 3)\n"
   ]
  },
  {
   "cell_type": "code",
   "execution_count": 46,
   "id": "bf4236b6-5b47-4180-918e-e5d497e6376d",
   "metadata": {},
   "outputs": [
    {
     "name": "stdout",
     "output_type": "stream",
     "text": [
      "Defaulting to user installation because normal site-packages is not writeable"
     ]
    },
    {
     "name": "stderr",
     "output_type": "stream",
     "text": [
      "Error processing line 1 of C:\\Users\\MARGARET\\AppData\\Roaming\\Python\\Python310\\site-packages\\vision-1.0.0-py3.10-nspkg.pth:\n",
      "\n",
      "  Traceback (most recent call last):\n",
      "    File \"C:\\Program Files\\Python310\\lib\\site.py\", line 186, in addpackage\n",
      "      exec(line)"
     ]
    },
    {
     "name": "stdout",
     "output_type": "stream",
     "text": [
      "\n",
      "Requirement already satisfied: pycm in c:\\users\\margaret\\appdata\\roaming\\python\\python310\\site-packages (4.0)\n",
      "Requirement already satisfied: art>=1.8 in c:\\users\\margaret\\appdata\\roaming\\python\\python310\\site-packages (from pycm) (6.0)\n",
      "Requirement already satisfied: numpy>=1.9.0 in c:\\users\\margaret\\appdata\\roaming\\python\\python310\\site-packages (from pycm) (1.22.2)\n"
     ]
    },
    {
     "name": "stderr",
     "output_type": "stream",
     "text": [
      "\n",
      "    File \"<string>\", line 1, in <module>\n",
      "    File \"<frozen importlib._bootstrap>\", line 568, in module_from_spec\n",
      "  AttributeError: 'NoneType' object has no attribute 'loader'\n",
      "\n",
      "Remainder of file ignored\n",
      "WARNING: There was an error checking the latest version of pip.\n"
     ]
    }
   ],
   "source": [
    "!pip install pycm"
   ]
  },
  {
   "cell_type": "code",
   "execution_count": 48,
   "id": "5ed4f272-2735-4142-9856-37b5842c536d",
   "metadata": {},
   "outputs": [],
   "source": [
    "from pycm import *"
   ]
  },
  {
   "cell_type": "code",
   "execution_count": 64,
   "id": "8c571d09-f5d6-4b3f-95bf-7bb74b668f7e",
   "metadata": {},
   "outputs": [],
   "source": [
    "y_pred = [1,0,0,0,0,0,0,0,0,0,0,0,0,0,0,0,0,0,0,0,0,0,0,0,0,0,0,0,0,0,0,0,0,0,0,0,0,0,0,0,0,0,0,0,0,0,0,0,0,0,0,0,0,0,0,0,0,0,0,0,0,0,0,0,0,0,0,0,0,0,0,0,0,0,0,0,0,0,0,0,0,0,0,0,0,0,0,0,0,0,0,0,0,0,0,0,0,0,0,0,0,0,0,0,0,0,0,0,0,0,0,0,0,0,0,0,0,0,0,0,0,0,0,0,0,0,0,0,0,0,0,0,0,0,0,0,0,0,0,0,0,0,0,0,0,0,0,0,0,0,2,2,2,2,2,2,2,2,2,2,2,2,2,2,2,2,2,2,2,2,2,2,2,2,2,2,2,2,2,2,2,2,2,2,2,2]\n",
    "y_actu = [3,3,3,3,3,3,3,3,3,3,3,3,3,3,3,3,3,3,3,3,3,3,3,3,3,3,3,3,0,0,0,0,0,0,0,0,0,0,0,0,0,0,0,0,0,0,0,0,0,0,0,0,0,0,0,0,0,0,0,0,0,0,0,0,0,0,0,0,0,0,0,0,0,0,0,0,0,0,0,0,0,0,0,0,0,0,0,0,0,0,0,0,0,0,0,0,0,0,0,0,0,0,0,0,0,0,0,0,0,0,0,0,0,0,0,0,0,0,0,0,0,0,0,0,0,0,0,0,0,0,0,0,0,0,0,0,0,0,0,0,0,0,0,0,0,0,0,0,0,0,0,0,0,0,0,0,0,0,1,2,2,2,2,2,2,2,2,2,2,2,2,2,2,2,2,2,2,2,2,2,2,2,2,2,2,2]"
   ]
  },
  {
   "cell_type": "code",
   "execution_count": 65,
   "id": "57bdda0c-a735-4cfb-91ec-d3e80cf152ea",
   "metadata": {},
   "outputs": [
    {
     "data": {
      "text/plain": [
       "{'Overall ACC': 0.8010752688172043,\n",
       " 'Overall RACCU': 0.5968753613134467,\n",
       " 'Overall RACC': 0.5880159556018036,\n",
       " 'Kappa': 0.517154283308777,\n",
       " 'Gwet AC1': 0.7701952883689609,\n",
       " 'Bennett S': 0.7347670250896057,\n",
       " 'Kappa Standard Error': 0.07104674461583316,\n",
       " 'Kappa Unbiased': 0.5065428602158246,\n",
       " 'Scott PI': 0.5065428602158246,\n",
       " 'Kappa No Prevalence': 0.6021505376344085,\n",
       " 'Kappa 95% CI': (0.377902663861744, 0.65640590275581),\n",
       " 'Standard Error': 0.029270125188156724,\n",
       " '95% CI': (0.7437058234484171, 0.8584447141859914),\n",
       " 'Chi-Squared': 'None',\n",
       " 'Phi-Squared': 'None',\n",
       " 'Cramer V': 'None',\n",
       " 'Response Entropy': 0.7554308025016588,\n",
       " 'Reference Entropy': 1.2171388322385386,\n",
       " 'Cross Entropy': 0.6081032766454062,\n",
       " 'Joint Entropy': 1.4837078417558838,\n",
       " 'Conditional Entropy': 0.2665690095173453,\n",
       " 'Mutual Information': 0.48886179298431354,\n",
       " 'KL Divergence': 'None',\n",
       " 'Lambda B': 0.7567567567567568,\n",
       " 'Lambda A': 0.35714285714285715,\n",
       " 'Chi-Squared DF': 9,\n",
       " 'Overall J': (1.5270700636942676, 0.3817675159235669),\n",
       " 'Hamming Loss': 0.19892473118279572,\n",
       " 'Zero-one Loss': 37,\n",
       " 'NIR': 0.6989247311827957,\n",
       " 'P-Value': 0.0011067999420218966,\n",
       " 'Overall CEN': 0.17676862357395184,\n",
       " 'Overall MCEN': 0.23190882761924048,\n",
       " 'Overall MCC': 0.5500319946055107,\n",
       " 'RR': 46.5,\n",
       " 'CBA': 0.3921979865771812,\n",
       " 'AUNU': 0.6742886877910463,\n",
       " 'AUNP': 0.7279239819334161,\n",
       " 'RCI': 0.40164834120460047,\n",
       " 'Pearson C': 'None',\n",
       " 'TPR Micro': 0.8010752688172043,\n",
       " 'TPR Macro': 0.4846153846153846,\n",
       " 'CSI': 'None',\n",
       " 'ARI': 0.4599178110681609,\n",
       " 'TNR Micro': 0.9336917562724014,\n",
       " 'TNR Macro': 0.863961990966708,\n",
       " 'Bangdiwala B': 0.7674875878680627,\n",
       " 'Krippendorff Alpha': 0.5078693579034166,\n",
       " 'SOA1(Landis & Koch)': 'Moderate',\n",
       " 'SOA2(Fleiss)': 'Intermediate to Good',\n",
       " 'SOA3(Altman)': 'Moderate',\n",
       " 'SOA4(Cicchetti)': 'Fair',\n",
       " 'SOA5(Cramer)': 'None',\n",
       " 'SOA6(Matthews)': 'Moderate',\n",
       " 'SOA7(Lambda A)': 'Weak',\n",
       " 'SOA8(Lambda B)': 'Strong',\n",
       " 'SOA9(Krippendorff Alpha)': 'Low',\n",
       " 'SOA10(Pearson C)': 'None',\n",
       " 'FPR Macro': 0.136038009033292,\n",
       " 'FNR Macro': 0.5153846153846153,\n",
       " 'PPV Macro': 'None',\n",
       " 'NPV Macro': 0.9069601859924441,\n",
       " 'ACC Macro': 0.9005376344086022,\n",
       " 'F1 Macro': 0.4329237071172555,\n",
       " 'FPR Micro': 0.06630824372759858,\n",
       " 'FNR Micro': 0.19892473118279574,\n",
       " 'PPV Micro': 0.8010752688172043,\n",
       " 'F1 Micro': 0.8010752688172043,\n",
       " 'NPV Micro': 0.9336917562724014}"
      ]
     },
     "execution_count": 65,
     "metadata": {},
     "output_type": "execute_result"
    }
   ],
   "source": [
    "cm = ConfusionMatrix(y_actu, y_pred,digit=5)\n",
    "cm.overall_stat"
   ]
  }
 ],
 "metadata": {
  "kernelspec": {
   "display_name": "Python 3 (ipykernel)",
   "language": "python",
   "name": "python3"
  },
  "language_info": {
   "codemirror_mode": {
    "name": "ipython",
    "version": 3
   },
   "file_extension": ".py",
   "mimetype": "text/x-python",
   "name": "python",
   "nbconvert_exporter": "python",
   "pygments_lexer": "ipython3",
   "version": "3.10.0"
  }
 },
 "nbformat": 4,
 "nbformat_minor": 5
}
