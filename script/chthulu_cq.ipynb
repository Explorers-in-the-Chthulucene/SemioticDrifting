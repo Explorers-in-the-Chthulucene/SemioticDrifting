{
  "nbformat": 4,
  "nbformat_minor": 0,
  "metadata": {
    "colab": {
      "provenance": []
    },
    "kernelspec": {
      "name": "python3",
      "display_name": "Python 3"
    },
    "language_info": {
      "name": "python"
    }
  },
  "cells": [
    {
      "cell_type": "markdown",
      "source": [
        "# Competency Questions for chco"
      ],
      "metadata": {
        "id": "-6CjaAQgfhM6"
      }
    },
    {
      "cell_type": "code",
      "source": [
        "!pip install rdflib\n",
        "import rdflib\n",
        "from rdflib import *\n",
        "from rdflib.term import Literal\n",
        "from rdflib.graph import Graph\n",
        "from pprint import pprint"
      ],
      "metadata": {
        "colab": {
          "base_uri": "https://localhost:8080/"
        },
        "id": "fADgoR99qOA5",
        "outputId": "1cda6ff3-3552-49a4-e687-3c55719b7078"
      },
      "execution_count": 3,
      "outputs": [
        {
          "output_type": "stream",
          "name": "stdout",
          "text": [
            "Requirement already satisfied: rdflib in /usr/local/lib/python3.10/dist-packages (6.3.2)\n",
            "Requirement already satisfied: isodate<0.7.0,>=0.6.0 in /usr/local/lib/python3.10/dist-packages (from rdflib) (0.6.1)\n",
            "Requirement already satisfied: pyparsing<4,>=2.1.0 in /usr/local/lib/python3.10/dist-packages (from rdflib) (3.1.0)\n",
            "Requirement already satisfied: six in /usr/local/lib/python3.10/dist-packages (from isodate<0.7.0,>=0.6.0->rdflib) (1.16.0)\n"
          ]
        }
      ]
    },
    {
      "cell_type": "code",
      "source": [
        "chthuluGraph = Graph()\n",
        "chthuluGraph.parse(\"/content/ChthuluConcepts7.ttl\", format=\"ttl\")"
      ],
      "metadata": {
        "colab": {
          "base_uri": "https://localhost:8080/"
        },
        "id": "1B_1nTR8qULM",
        "outputId": "9655cf06-3b1a-4aa8-97c8-9e0e5ef589f2"
      },
      "execution_count": 103,
      "outputs": [
        {
          "output_type": "execute_result",
          "data": {
            "text/plain": [
              "<Graph identifier=N4967f06a1ce547b890577f197e8a92c2 (<class 'rdflib.graph.Graph'>)>"
            ]
          },
          "metadata": {},
          "execution_count": 103
        }
      ]
    },
    {
      "cell_type": "code",
      "source": [
        "namespacestring=\"http://www.semanticweb.org/ghiot/ontologies/2023/5/chthulucene\"\n",
        "ch = Namespace(namespacestring)"
      ],
      "metadata": {
        "id": "MpKlG9wtxCms"
      },
      "execution_count": 104,
      "outputs": []
    },
    {
      "cell_type": "code",
      "source": [
        "owl = Namespace(\"http://www.w3.org/2002/07/owl#\")\n",
        "rdf = Namespace(\"http://www.w3.org/1999/02/22-rdf-syntax-ns#\")\n",
        "xml= Namespace(\"http://www.w3.org/XML/1998/namespace\")\n",
        "xsd = Namespace(\"http://www.w3.org/2001/XMLSchema#\")\n",
        "rdfs = Namespace(\"http://www.w3.org/2000/01/rdf-schema#\")"
      ],
      "metadata": {
        "id": "QCcydCIrzja0"
      },
      "execution_count": 105,
      "outputs": []
    },
    {
      "cell_type": "code",
      "source": [
        "#add the prefix to the graph\n",
        "chthuluGraph.bind(\"chco\", chco)\n",
        "chthuluGraph.bind(\"owl\", owl)\n",
        "chthuluGraph.bind(\"rdf\", rdf)\n",
        "chthuluGraph.bind(\"xml\", xml)\n",
        "chthuluGraph.bind(\"xsd\", xsd)\n",
        "chthuluGraph.bind(\"rdfs\", rdfs)"
      ],
      "metadata": {
        "id": "zT12Xzri43-Y"
      },
      "execution_count": 106,
      "outputs": []
    },
    {
      "cell_type": "code",
      "source": [
        "print(chthuluGraph.serialize(format=\"ttl\"))"
      ],
      "metadata": {
        "colab": {
          "base_uri": "https://localhost:8080/"
        },
        "id": "ztBAuiei38AK",
        "outputId": "b546b168-b4ea-4180-e397-c50d5caead7b"
      },
      "execution_count": 107,
      "outputs": [
        {
          "output_type": "stream",
          "name": "stdout",
          "text": [
            "@prefix chco: <http://www.semanticweb.org/ghiot/ontologies/2023/5/chthuluConcepts#> .\n",
            "@prefix ns1: <http://www.semanticweb.org/ghiot/ontologies/2023/5/> .\n",
            "@prefix owl: <http://www.w3.org/2002/07/owl#> .\n",
            "@prefix rdf: <http://www.w3.org/1999/02/22-rdf-syntax-ns#> .\n",
            "@prefix rdfs: <http://www.w3.org/2000/01/rdf-schema#> .\n",
            "@prefix xsd: <http://www.w3.org/2001/XMLSchema#> .\n",
            "\n",
            "ns1:chthuluConcepts a owl:AnnotationProperty,\n",
            "        owl:Ontology ;\n",
            "    ns1:chthuluConcepts \"Giusy Grieco\",\n",
            "        \"Maddalena Ghiotto\" ;\n",
            "    rdfs:comment \"This Ontology was developed for the project of the course Knowledge Representation and Knowledge Extraction, held by prof. Nuzzolese and prof. Gangemi at University of Bologna.\"@en .\n",
            "\n",
            "chco:exampleOf a owl:ObjectProperty ;\n",
            "    rdfs:domain chco:Concept ;\n",
            "    rdfs:range chco:Concept ;\n",
            "    owl:inverseOf chco:hasExample .\n",
            "\n",
            "chco:generatedBy a owl:ObjectProperty ;\n",
            "    rdfs:domain chco:Concept ;\n",
            "    rdfs:range chco:Concept ;\n",
            "    owl:inverseOf chco:generates .\n",
            "\n",
            "chco:hasFramenetID a owl:DatatypeProperty ;\n",
            "    rdfs:range xsd:int .\n",
            "\n",
            "chco:hasInstance a owl:DatatypeProperty ;\n",
            "    rdfs:range rdfs:Literal .\n",
            "\n",
            "chco:hasLabel a owl:DatatypeProperty ;\n",
            "    rdfs:range rdfs:Literal .\n",
            "\n",
            "chco:hasMainReference a owl:DatatypeProperty ;\n",
            "    rdfs:range rdfs:Literal .\n",
            "\n",
            "chco:impliedIn a owl:ObjectProperty ;\n",
            "    rdfs:domain chco:ActivityConcept ;\n",
            "    rdfs:range chco:Concept ;\n",
            "    owl:inverseOf chco:impliesActivity .\n",
            "\n",
            "chco:overlapsWith a owl:ObjectProperty,\n",
            "        owl:SymmetricProperty ;\n",
            "    rdfs:domain chco:Concept ;\n",
            "    rdfs:range chco:Concept .\n",
            "\n",
            "chco:Inheritance a chco:PracticeConcept,\n",
            "        owl:NamedIndividual ;\n",
            "    chco:impliesActivity chco:ThinkFrom ;\n",
            "    chco:overlapsWith chco:PlayingSF .\n",
            "\n",
            "chco:Ongoingness a chco:PracticeConcept,\n",
            "        owl:NamedIndividual ;\n",
            "    chco:generatedBy chco:BecomingWith,\n",
            "        chco:RenderCapable ;\n",
            "    chco:hasCondition chco:ResponseAbility .\n",
            "\n",
            "chco:Politeness a chco:ModeConcept,\n",
            "        owl:NamedIndividual .\n",
            "\n",
            "chco:ResponseAbility a chco:ModeConcept,\n",
            "        owl:NamedIndividual .\n",
            "\n",
            "chco:Storytelling a chco:ActivityConcept,\n",
            "        owl:NamedIndividual ;\n",
            "    chco:overlapsWith chco:PlayingSF .\n",
            "\n",
            "chco:ThinkFrom a chco:ActivityConcept,\n",
            "        owl:NamedIndividual ;\n",
            "    chco:impliedIn chco:Inheritance .\n",
            "\n",
            "chco:ThinkWith a chco:ActivityConcept,\n",
            "        owl:NamedIndividual ;\n",
            "    chco:hasCondition chco:Politeness ;\n",
            "    chco:impliedIn chco:GoVisit ;\n",
            "    chco:impliesActivity chco:BecomingWith,\n",
            "        chco:RenderCapable .\n",
            "\n",
            "chco:Worlding a chco:PracticeConcept,\n",
            "        owl:NamedIndividual ;\n",
            "    chco:hasExample chco:GoVisit .\n",
            "\n",
            "chco:generates a owl:ObjectProperty ;\n",
            "    rdfs:domain chco:Concept ;\n",
            "    rdfs:range chco:Concept .\n",
            "\n",
            "chco:hasCondition a owl:ObjectProperty ;\n",
            "    rdfs:domain chco:Concept ;\n",
            "    rdfs:range chco:ModeConcept .\n",
            "\n",
            "chco:hasExample a owl:ObjectProperty ;\n",
            "    rdfs:domain chco:Concept ;\n",
            "    rdfs:range chco:Concept .\n",
            "\n",
            "chco:GoVisit a chco:PracticeConcept,\n",
            "        owl:NamedIndividual ;\n",
            "    chco:exampleOf chco:Worlding ;\n",
            "    chco:impliesActivity chco:ThinkWith .\n",
            "\n",
            "chco:PlayingSF a chco:ActivityConcept,\n",
            "        owl:NamedIndividual ;\n",
            "    chco:overlapsWith chco:Storytelling .\n",
            "\n",
            "chco:impliesActivity a owl:ObjectProperty ;\n",
            "    rdfs:domain chco:Concept ;\n",
            "    rdfs:range chco:ActivityConcept .\n",
            "\n",
            "chco:BecomingWith a chco:ActivityConcept,\n",
            "        owl:NamedIndividual ;\n",
            "    chco:generates chco:Ongoingness ;\n",
            "    chco:overlapsWith chco:RenderCapable .\n",
            "\n",
            "chco:RenderCapable a chco:ActivityConcept,\n",
            "        owl:NamedIndividual ;\n",
            "    chco:overlapsWith chco:BecomingWith .\n",
            "\n",
            "chco:ModeConcept a owl:Class ;\n",
            "    rdfs:comment \"ModeConcepts are ways of doing things, a particular state of mind and predisposition that is necessary for enabling an ActivityConcept or a PracticeConcept. For example, Donna Haraway defines Politeness as a virtue that makes the activity of thinking-with a generative activity, really capable of transforming the beings that participate in it. In other words, Politeness is the modality of thinking that transform \\\"think\\\" in \\\"think-with\\\".\" ;\n",
            "    rdfs:subClassOf chco:Concept .\n",
            "\n",
            "chco:PracticeConcept a owl:Class ;\n",
            "    rdfs:comment \"A PracticeConcept identifies general practices described by DonnaHaraway these practices are general conceptual frames to understand and act in a troubled word and may manifest in different situated examples. They are considered at an abstract level and explained through original evocative terms such as \\\"SF\\\", \\\"Worlding\\\", \\\"Ongoingness\\\".\" ;\n",
            "    rdfs:subClassOf chco:Concept .\n",
            "\n",
            "chco:ActivityConcept a owl:Class ;\n",
            "    rdfs:comment \"ActivityConcepts are situated, concrete processes actuated by and through the beings -human and not-  that participate in them. They are re-inventions of common activities such as \\\"thinking\\\", \\\"becoming\\\" in the non-anthropocentric frame of the Chthulucene and they usually require equal co-participation of all entities involved.\" ;\n",
            "    rdfs:subClassOf chco:Concept .\n",
            "\n",
            "chco:Concept a owl:Class ;\n",
            "    rdfs:subClassOf [ a owl:Restriction ;\n",
            "            owl:allValuesFrom chco:ModeConcept ;\n",
            "            owl:onProperty chco:hasCondition ],\n",
            "        [ a owl:Restriction ;\n",
            "            owl:allValuesFrom chco:ActivityConcept ;\n",
            "            owl:onProperty chco:impliesActivity ] .\n",
            "\n",
            "[] a owl:AllDisjointClasses ;\n",
            "    owl:members ( chco:ActivityConcept chco:ModeConcept chco:PracticeConcept ) .\n",
            "\n",
            "\n"
          ]
        }
      ]
    },
    {
      "cell_type": "code",
      "source": [
        "for s,p,o in chthuluGraph.triples((chco.ThinkWith, None, None)): #iterates over triples that have a specific property\n",
        "  print(s,p,o)"
      ],
      "metadata": {
        "id": "OXbX09MD6O6o",
        "colab": {
          "base_uri": "https://localhost:8080/"
        },
        "outputId": "cdf22911-b366-475b-b728-65802f777697"
      },
      "execution_count": 108,
      "outputs": [
        {
          "output_type": "stream",
          "name": "stdout",
          "text": [
            "http://www.semanticweb.org/ghiot/ontologies/2023/5/chthuluConcepts#ThinkWith http://www.w3.org/1999/02/22-rdf-syntax-ns#type http://www.w3.org/2002/07/owl#NamedIndividual\n",
            "http://www.semanticweb.org/ghiot/ontologies/2023/5/chthuluConcepts#ThinkWith http://www.w3.org/1999/02/22-rdf-syntax-ns#type http://www.semanticweb.org/ghiot/ontologies/2023/5/chthuluConcepts#ActivityConcept\n",
            "http://www.semanticweb.org/ghiot/ontologies/2023/5/chthuluConcepts#ThinkWith http://www.semanticweb.org/ghiot/ontologies/2023/5/chthuluConcepts#hasCondition http://www.semanticweb.org/ghiot/ontologies/2023/5/chthuluConcepts#Politeness\n",
            "http://www.semanticweb.org/ghiot/ontologies/2023/5/chthuluConcepts#ThinkWith http://www.semanticweb.org/ghiot/ontologies/2023/5/chthuluConcepts#impliedIn http://www.semanticweb.org/ghiot/ontologies/2023/5/chthuluConcepts#GoVisit\n",
            "http://www.semanticweb.org/ghiot/ontologies/2023/5/chthuluConcepts#ThinkWith http://www.semanticweb.org/ghiot/ontologies/2023/5/chthuluConcepts#impliesActivity http://www.semanticweb.org/ghiot/ontologies/2023/5/chthuluConcepts#BecomingWith\n",
            "http://www.semanticweb.org/ghiot/ontologies/2023/5/chthuluConcepts#ThinkWith http://www.semanticweb.org/ghiot/ontologies/2023/5/chthuluConcepts#impliesActivity http://www.semanticweb.org/ghiot/ontologies/2023/5/chthuluConcepts#RenderCapable\n"
          ]
        }
      ]
    },
    {
      "cell_type": "code",
      "source": [
        "# Which concepts are activities?\n",
        "cq1 = '''\n",
        "PREFIX rdf: <http://www.w3.org/1999/02/22-rdf-syntax-ns#>\n",
        "PREFIX rdfs: <http://www.w3.org/2000/01/rdf-schema#>\n",
        "PREFIX chco: <http://www.semanticweb.org/ghiot/ontologies/2023/5/chthuluConcepts#>\n",
        "\n",
        "SELECT ?subject\n",
        "WHERE {\n",
        "  ?subject rdf:type chco:ActivityConcept .\n",
        "}\n",
        "\n",
        "'''\n",
        "results = chthuluGraph.query(cq1)\n",
        "\n",
        "for cq in results:\n",
        "    print(cq['subject'])"
      ],
      "metadata": {
        "id": "7SWVpS3Ug0U8",
        "colab": {
          "base_uri": "https://localhost:8080/"
        },
        "outputId": "05d2aa8a-6b10-46d7-b2c0-137affc718de"
      },
      "execution_count": 118,
      "outputs": [
        {
          "output_type": "stream",
          "name": "stdout",
          "text": [
            "http://www.semanticweb.org/ghiot/ontologies/2023/5/chthuluConcepts#BecomingWith\n",
            "http://www.semanticweb.org/ghiot/ontologies/2023/5/chthuluConcepts#PlayingSF\n",
            "http://www.semanticweb.org/ghiot/ontologies/2023/5/chthuluConcepts#RenderCapable\n",
            "http://www.semanticweb.org/ghiot/ontologies/2023/5/chthuluConcepts#Storytelling\n",
            "http://www.semanticweb.org/ghiot/ontologies/2023/5/chthuluConcepts#ThinkFrom\n",
            "http://www.semanticweb.org/ghiot/ontologies/2023/5/chthuluConcepts#ThinkWith\n"
          ]
        }
      ]
    },
    {
      "cell_type": "code",
      "source": [
        "# Which practices?\n",
        "cq2 = '''\n",
        "PREFIX rdf: <http://www.w3.org/1999/02/22-rdf-syntax-ns#>\n",
        "PREFIX rdfs: <http://www.w3.org/2000/01/rdf-schema#>\n",
        "PREFIX chco: <http://www.semanticweb.org/ghiot/ontologies/2023/5/chthuluConcepts#>\n",
        "\n",
        "SELECT ?subject\n",
        "WHERE {\n",
        "  ?subject rdf:type chco:PracticeConcept .\n",
        "}\n",
        "\n",
        "'''\n",
        "results = chthuluGraph.query(cq2)\n",
        "\n",
        "for cq in results:\n",
        "    print(cq['subject'])"
      ],
      "metadata": {
        "colab": {
          "base_uri": "https://localhost:8080/"
        },
        "id": "Mptv44YvKtSz",
        "outputId": "93b67a88-ff9a-4162-a62e-f99aafe3305a"
      },
      "execution_count": 119,
      "outputs": [
        {
          "output_type": "stream",
          "name": "stdout",
          "text": [
            "http://www.semanticweb.org/ghiot/ontologies/2023/5/chthuluConcepts#GoVisit\n",
            "http://www.semanticweb.org/ghiot/ontologies/2023/5/chthuluConcepts#Inheritance\n",
            "http://www.semanticweb.org/ghiot/ontologies/2023/5/chthuluConcepts#Ongoingness\n",
            "http://www.semanticweb.org/ghiot/ontologies/2023/5/chthuluConcepts#Worlding\n"
          ]
        }
      ]
    },
    {
      "cell_type": "code",
      "source": [
        "# Which concepts have a condition? And what is the condition?\n",
        "cq3 = '''\n",
        "PREFIX rdf: <http://www.w3.org/1999/02/22-rdf-syntax-ns#>\n",
        "PREFIX rdfs: <http://www.w3.org/2000/01/rdf-schema#>\n",
        "PREFIX chco: <http://www.semanticweb.org/ghiot/ontologies/2023/5/chthuluConcepts#>\n",
        "\n",
        "SELECT ?subject ?condition\n",
        "WHERE {\n",
        "  ?subject chco:hasCondition ?condition ;\n",
        "}\n",
        "\n",
        "'''\n",
        "results = chthuluGraph.query(cq3)\n",
        "\n",
        "for cq in results:\n",
        "    print(cq['subject'], cq['condition'])\n"
      ],
      "metadata": {
        "colab": {
          "base_uri": "https://localhost:8080/"
        },
        "id": "j__dfUQJSCGY",
        "outputId": "96edec56-98cf-432b-c4ca-ba3f07eb2391"
      },
      "execution_count": 176,
      "outputs": [
        {
          "output_type": "stream",
          "name": "stdout",
          "text": [
            "http://www.semanticweb.org/ghiot/ontologies/2023/5/chthuluConcepts#Ongoingness http://www.semanticweb.org/ghiot/ontologies/2023/5/chthuluConcepts#ResponseAbility\n",
            "http://www.semanticweb.org/ghiot/ontologies/2023/5/chthuluConcepts#ThinkWith http://www.semanticweb.org/ghiot/ontologies/2023/5/chthuluConcepts#Politeness\n"
          ]
        }
      ]
    },
    {
      "cell_type": "code",
      "source": [
        "# Which practice implies \"To-Think-With\"?\n",
        "cq4 = '''\n",
        "PREFIX rdf: <http://www.w3.org/1999/02/22-rdf-syntax-ns#>\n",
        "PREFIX rdfs: <http://www.w3.org/2000/01/rdf-schema#>\n",
        "PREFIX chco: <http://www.semanticweb.org/ghiot/ontologies/2023/5/chthuluConcepts#>\n",
        "\n",
        "SELECT ?subject\n",
        "WHERE {\n",
        "  ?subject chco:impliesActivity chco:ThinkWith\n",
        "  }\n",
        "\n",
        "'''\n",
        "results = chthuluGraph.query(cq4)\n",
        "\n",
        "for cq in results:\n",
        "    print(cq['subject'])\n"
      ],
      "metadata": {
        "colab": {
          "base_uri": "https://localhost:8080/"
        },
        "id": "8ZAjpQCOUQHf",
        "outputId": "2416f969-b4a1-446e-c742-1b0cfc0e6297"
      },
      "execution_count": 163,
      "outputs": [
        {
          "output_type": "stream",
          "name": "stdout",
          "text": [
            "http://www.semanticweb.org/ghiot/ontologies/2023/5/chthuluConcepts#GoVisit\n"
          ]
        }
      ]
    },
    {
      "cell_type": "code",
      "source": [
        "# Which concepts generate other concepts? What are these other concepts?\n",
        "cq5 = '''\n",
        "PREFIX rdf: <http://www.w3.org/1999/02/22-rdf-syntax-ns#>\n",
        "PREFIX rdfs: <http://www.w3.org/2000/01/rdf-schema#>\n",
        "PREFIX chco: <http://www.semanticweb.org/ghiot/ontologies/2023/5/chthuluConcepts#>\n",
        "\n",
        "SELECT ?subject ?object\n",
        "WHERE {\n",
        "  ?subject chco:generates ?object\n",
        "                }\n",
        "\n",
        "'''\n",
        "results = chthuluGraph.query(cq5)\n",
        "\n",
        "for cq in results:\n",
        "    print(cq['subject'], cq['object'])\n",
        "\n",
        "    #verified"
      ],
      "metadata": {
        "id": "XkDHb3y4grvw",
        "colab": {
          "base_uri": "https://localhost:8080/"
        },
        "outputId": "31ed7e90-eb6c-432e-ccd1-d62abb439816"
      },
      "execution_count": 164,
      "outputs": [
        {
          "output_type": "stream",
          "name": "stdout",
          "text": [
            "http://www.semanticweb.org/ghiot/ontologies/2023/5/chthuluConcepts#BecomingWith http://www.semanticweb.org/ghiot/ontologies/2023/5/chthuluConcepts#Ongoingness\n"
          ]
        }
      ]
    },
    {
      "cell_type": "code",
      "source": [
        "# What concepts overlaps with each other?\n",
        "cq5 = '''\n",
        "PREFIX rdf: <http://www.w3.org/1999/02/22-rdf-syntax-ns#>\n",
        "PREFIX rdfs: <http://www.w3.org/2000/01/rdf-schema#>\n",
        "PREFIX chco: <http://www.semanticweb.org/ghiot/ontologies/2023/5/chthuluConcepts#>\n",
        "\n",
        "SELECT ?subject ?object\n",
        "WHERE {\n",
        "  ?subject chco:overlapsWith ?object\n",
        "                }\n",
        "\n",
        "'''\n",
        "results = chthuluGraph.query(cq5)\n",
        "\n",
        "for cq in results:\n",
        "    print(cq['subject'], cq['object'])\n"
      ],
      "metadata": {
        "id": "eaRCmO_PgXgu",
        "colab": {
          "base_uri": "https://localhost:8080/"
        },
        "outputId": "2b985641-1dab-4e21-cf6d-f85d9c2f1505"
      },
      "execution_count": 174,
      "outputs": [
        {
          "output_type": "stream",
          "name": "stdout",
          "text": [
            "http://www.semanticweb.org/ghiot/ontologies/2023/5/chthuluConcepts#BecomingWith http://www.semanticweb.org/ghiot/ontologies/2023/5/chthuluConcepts#RenderCapable\n",
            "http://www.semanticweb.org/ghiot/ontologies/2023/5/chthuluConcepts#Inheritance http://www.semanticweb.org/ghiot/ontologies/2023/5/chthuluConcepts#PlayingSF\n",
            "http://www.semanticweb.org/ghiot/ontologies/2023/5/chthuluConcepts#Storytelling http://www.semanticweb.org/ghiot/ontologies/2023/5/chthuluConcepts#PlayingSF\n",
            "http://www.semanticweb.org/ghiot/ontologies/2023/5/chthuluConcepts#PlayingSF http://www.semanticweb.org/ghiot/ontologies/2023/5/chthuluConcepts#Storytelling\n",
            "http://www.semanticweb.org/ghiot/ontologies/2023/5/chthuluConcepts#RenderCapable http://www.semanticweb.org/ghiot/ontologies/2023/5/chthuluConcepts#BecomingWith\n"
          ]
        }
      ]
    },
    {
      "cell_type": "code",
      "source": [
        "# What does Playing String Figures concept with something?\n",
        "cq5 = '''\n",
        "PREFIX rdf: <http://www.w3.org/1999/02/22-rdf-syntax-ns#>\n",
        "PREFIX rdfs: <http://www.w3.org/2000/01/rdf-schema#>\n",
        "PREFIX chco: <http://www.semanticweb.org/ghiot/ontologies/2023/5/chthuluConcepts#>\n",
        "\n",
        "SELECT ?object\n",
        "WHERE {\n",
        "  chco:PlayingSF chco:overlapsWith ?object\n",
        "\n",
        "                }\n",
        "\n",
        "'''\n",
        "results = chthuluGraph.query(cq5)\n",
        "\n",
        "for cq in results:\n",
        "    print(cq['object'])\n"
      ],
      "metadata": {
        "id": "KqkqzjGJfK6y",
        "colab": {
          "base_uri": "https://localhost:8080/"
        },
        "outputId": "0918b607-395e-46dd-912f-1842c9bef6ab"
      },
      "execution_count": 175,
      "outputs": [
        {
          "output_type": "stream",
          "name": "stdout",
          "text": [
            "http://www.semanticweb.org/ghiot/ontologies/2023/5/chthuluConcepts#Storytelling\n"
          ]
        }
      ]
    },
    {
      "cell_type": "markdown",
      "source": [
        "# Competency Questions for Chthulucene Ontology"
      ],
      "metadata": {
        "id": "Mh2n6GxXfdEB"
      }
    },
    {
      "cell_type": "code",
      "source": [
        "chthuluGraph_ = Graph()\n",
        "chthuluGraph_.parse(\"/content/cthuluGraph.ttl\", format=\"ttl\")"
      ],
      "metadata": {
        "colab": {
          "base_uri": "https://localhost:8080/"
        },
        "id": "AjiIl4JDfXCs",
        "outputId": "3c5a779b-3303-4f49-ec51-9d0a3ddc6f7a"
      },
      "execution_count": 10,
      "outputs": [
        {
          "output_type": "execute_result",
          "data": {
            "text/plain": [
              "<Graph identifier=N3921b0657dcb41b5a55f490cc691317a (<class 'rdflib.graph.Graph'>)>"
            ]
          },
          "metadata": {},
          "execution_count": 10
        }
      ]
    },
    {
      "cell_type": "code",
      "source": [
        "namespacestring=\"http://www.semanticweb.org/ghiot/ontologies/2023/5/chthulucene\"\n",
        "chthulu= Namespace(namespacestring)"
      ],
      "metadata": {
        "id": "IvjMfiO1g0xo"
      },
      "execution_count": 11,
      "outputs": []
    },
    {
      "cell_type": "code",
      "source": [
        "chco = Namespace(\"http://www.semanticweb.org/ghiot/ontologies/2023/5/chthuluConcepts#\")\n",
        "owl = Namespace(\"http://www.w3.org/2002/07/owl#\")\n",
        "rdf = Namespace(\"http://www.w3.org/1999/02/22-rdf-syntax-ns#\")\n",
        "xml= Namespace(\"http://www.w3.org/XML/1998/namespace\")\n",
        "xsd = Namespace(\"http://www.w3.org/2001/XMLSchema#\")\n",
        "rdfs = Namespace(\"http://www.w3.org/2000/01/rdf-schema#\")\n",
        "ns3: Namespace(\"http://www.semanticweb.org/ghiot/ontologies/2023/5/\")"
      ],
      "metadata": {
        "id": "v6fXpWCog0xq"
      },
      "execution_count": 12,
      "outputs": []
    },
    {
      "cell_type": "code",
      "source": [
        "#add the prefix to the graph\n",
        "chthuluGraph_.bind(\"chco\", chco)\n",
        "chthuluGraph_.bind(\"ch\", ch)\n",
        "chthuluGraph_.bind(\"owl\", owl)\n",
        "chthuluGraph_.bind(\"rdf\", rdf)\n",
        "chthuluGraph_.bind(\"xml\", xml)\n",
        "chthuluGraph_.bind(\"xsd\", xsd)\n",
        "chthuluGraph_.bind(\"rdfs\", rdfs)"
      ],
      "metadata": {
        "id": "nW4J77P7hopK"
      },
      "execution_count": 13,
      "outputs": []
    },
    {
      "cell_type": "code",
      "source": [
        "print(chthuluGraph_.serialize(format=\"ttl\"))"
      ],
      "metadata": {
        "colab": {
          "base_uri": "https://localhost:8080/"
        },
        "outputId": "befa9f8f-3e26-47b3-f121-fe8134b92d87",
        "id": "ruI_5OHChopN"
      },
      "execution_count": 14,
      "outputs": [
        {
          "output_type": "stream",
          "name": "stdout",
          "text": [
            "@prefix chco: <http://www.semanticweb.org/ghiot/ontologies/2023/5/chthuluConcepts#> .\n",
            "@prefix chthulu: <http://www.semanticweb.org/ghiot/ontologies/2023/5/chthulucene#> .\n",
            "@prefix ns3: <http://www.semanticweb.org/ghiot/ontologies/2023/5/> .\n",
            "@prefix owl: <http://www.w3.org/2002/07/owl#> .\n",
            "@prefix rdf: <http://www.w3.org/1999/02/22-rdf-syntax-ns#> .\n",
            "@prefix rdfs: <http://www.w3.org/2000/01/rdf-schema#> .\n",
            "@prefix xsd: <http://www.w3.org/2001/XMLSchema#> .\n",
            "\n",
            "ns3:chthuluConcepts a owl:AnnotationProperty,\n",
            "        owl:Ontology ;\n",
            "    ns3:chthuluConcepts \"Giusy Grieco\",\n",
            "        \"Maddalena Ghiotto\" ;\n",
            "    rdfs:comment \"This Ontology was developed for the project of the course Knowledge Representation and Knowledge Extraction, held by prof. Nuzzolese and prof. Gangemi at University of Bologna.\"@en .\n",
            "\n",
            "chco:exampleOf a owl:ObjectProperty ;\n",
            "    rdfs:domain chco:Concept ;\n",
            "    rdfs:range chco:Concept ;\n",
            "    owl:inverseOf chco:hasExample .\n",
            "\n",
            "chco:generatedBy a owl:ObjectProperty ;\n",
            "    rdfs:domain chco:Concept ;\n",
            "    rdfs:range chco:Concept ;\n",
            "    owl:inverseOf chco:generates .\n",
            "\n",
            "chco:hasFramenetID a owl:DatatypeProperty ;\n",
            "    rdfs:range xsd:int .\n",
            "\n",
            "chco:hasInstance a owl:DatatypeProperty ;\n",
            "    rdfs:range rdfs:Literal .\n",
            "\n",
            "chco:hasLabel a owl:DatatypeProperty ;\n",
            "    rdfs:range rdfs:Literal .\n",
            "\n",
            "chco:hasMainReference a owl:DatatypeProperty ;\n",
            "    rdfs:range rdfs:Literal .\n",
            "\n",
            "chco:impliedIn a owl:ObjectProperty ;\n",
            "    rdfs:domain chco:ActivityConcept ;\n",
            "    rdfs:range chco:Concept ;\n",
            "    owl:inverseOf chco:impliesActivity .\n",
            "\n",
            "chco:overlapsWith a owl:ObjectProperty,\n",
            "        owl:SymmetricProperty ;\n",
            "    rdfs:domain chco:Concept ;\n",
            "    rdfs:range chco:Concept .\n",
            "\n",
            "chthulu:Amotz_Zahavi a owl:Class ;\n",
            "    rdfs:subClassOf chthulu:HumanProp .\n",
            "\n",
            "chthulu:Association a owl:Class ;\n",
            "    rdfs:subClassOf chthulu:Organization .\n",
            "\n",
            "chthulu:Baghdad a owl:Class ;\n",
            "    rdfs:subClassOf chthulu:GPE .\n",
            "\n",
            "chthulu:Beatriz_da_Costa a owl:Class ;\n",
            "    rdfs:subClassOf chthulu:HumanProp .\n",
            "\n",
            "chthulu:Berlin a owl:Class ;\n",
            "    rdfs:subClassOf chthulu:GPE .\n",
            "\n",
            "chthulu:Bird a owl:Class ;\n",
            "    rdfs:subClassOf chthulu:Animal .\n",
            "\n",
            "chthulu:Breeder a owl:Class ;\n",
            "    rdfs:subClassOf chthulu:HumanComm .\n",
            "\n",
            "chthulu:California a owl:Class ;\n",
            "    rdfs:subClassOf chthulu:GPE .\n",
            "\n",
            "chthulu:Camel a owl:Class ;\n",
            "    rdfs:subClassOf chthulu:Animal .\n",
            "\n",
            "chthulu:Caudry a owl:Class ;\n",
            "    rdfs:subClassOf chthulu:GPE .\n",
            "\n",
            "chthulu:Cause_expansion_146 a chthulu:Cause_expansion ;\n",
            "    chthulu:involvesRole chthulu:Agent_146 .\n",
            "\n",
            "chthulu:Cerisy a owl:Class ;\n",
            "    rdfs:subClassOf chthulu:GPE .\n",
            "\n",
            "chthulu:Chateau a owl:Class ;\n",
            "    rdfs:subClassOf chthulu:LOC .\n",
            "\n",
            "chthulu:Collaborative_thinking a owl:Class ;\n",
            "    rdfs:subClassOf chthulu:Frame .\n",
            "\n",
            "chthulu:Colombophile a owl:Class ;\n",
            "    rdfs:subClassOf chthulu:HumanComm .\n",
            "\n",
            "chthulu:Coming_to_believe a owl:Class ;\n",
            "    rdfs:subClassOf chthulu:Frame .\n",
            "\n",
            "chthulu:Coming_up_with_107 a chthulu:Coming_up_with ;\n",
            "    chthulu:involvesRole chthulu:Cognizer_107 .\n",
            "\n",
            "chthulu:Coming_up_with_189 a chthulu:Coming_up_with ;\n",
            "    chthulu:involvesRole chthulu:Idea_189 .\n",
            "\n",
            "chthulu:Consequences a owl:Class ;\n",
            "    rdfs:subClassOf chthulu:Role .\n",
            "\n",
            "chthulu:Content a owl:Class ;\n",
            "    rdfs:subClassOf chthulu:Role .\n",
            "\n",
            "chthulu:Cow a owl:Class ;\n",
            "    rdfs:subClassOf chthulu:Animal .\n",
            "\n",
            "chthulu:Damascus a owl:Class ;\n",
            "    rdfs:subClassOf chthulu:GPE .\n",
            "\n",
            "chthulu:Despret_121 a chthulu:Vinciane_Despret ;\n",
            "    chthulu:agentiveRole chthulu:Experiencer_121 .\n",
            "\n",
            "chthulu:EcologicalPark a owl:Class ;\n",
            "    rdfs:subClassOf chthulu:LOC .\n",
            "\n",
            "chthulu:Evidence a owl:Class ;\n",
            "    rdfs:subClassOf chthulu:Role .\n",
            "\n",
            "chthulu:Fancier a owl:Class ;\n",
            "    rdfs:subClassOf chthulu:HumanComm .\n",
            "\n",
            "chthulu:Farmer a owl:Class ;\n",
            "    rdfs:subClassOf chthulu:HumanComm .\n",
            "\n",
            "chthulu:Farmland a owl:Class ;\n",
            "    rdfs:subClassOf chthulu:LOC .\n",
            "\n",
            "chthulu:Father a owl:Class ;\n",
            "    rdfs:subClassOf chthulu:HumanComm .\n",
            "\n",
            "chthulu:France a owl:Class ;\n",
            "    rdfs:subClassOf chthulu:GPE .\n",
            "\n",
            "chthulu:GobiDesert a owl:Class ;\n",
            "    rdfs:subClassOf chthulu:LOC .\n",
            "\n",
            "chthulu:Hannah_Arendt a owl:Class ;\n",
            "    rdfs:subClassOf chthulu:HumanProp .\n",
            "\n",
            "chthulu:Heir a owl:Class ;\n",
            "    rdfs:subClassOf chthulu:HumanComm .\n",
            "\n",
            "chthulu:Her_146 a chthulu:Vinciane_Despret ;\n",
            "    chthulu:agentiveRole chthulu:Agent_146 .\n",
            "\n",
            "chthulu:Inquirer a owl:Class ;\n",
            "    rdfs:subClassOf chthulu:HumanComm .\n",
            "\n",
            "chthulu:Iran a owl:Class ;\n",
            "    rdfs:subClassOf chthulu:GPE .\n",
            "\n",
            "chthulu:Isabelle_Stengers a owl:Class ;\n",
            "    rdfs:subClassOf chthulu:HumanProp .\n",
            "\n",
            "chthulu:Jocelyne_Porcher a owl:Class ;\n",
            "    rdfs:subClassOf chthulu:HumanProp .\n",
            "\n",
            "chthulu:LeisurePark a owl:Class ;\n",
            "    rdfs:subClassOf chthulu:LOC .\n",
            "\n",
            "chthulu:Location a owl:Class ;\n",
            "    rdfs:subClassOf chthulu:Role .\n",
            "\n",
            "chthulu:Man a owl:Class ;\n",
            "    rdfs:subClassOf chthulu:HumanComm .\n",
            "\n",
            "chthulu:Market a owl:Class ;\n",
            "    rdfs:subClassOf chthulu:LOC .\n",
            "\n",
            "chthulu:Matali_Crasset a owl:Class ;\n",
            "    rdfs:subClassOf chthulu:HumanProp .\n",
            "\n",
            "chthulu:Mental_stimulus_stimulus_focus_121 a chthulu:Mental_stimulus_stimulus_focus ;\n",
            "    chthulu:involvesRole chthulu:Experiencer_121 .\n",
            "\n",
            "chthulu:Mental_stimulus_stimulus_focus_128 a chthulu:Mental_stimulus_stimulus_focus ;\n",
            "    chthulu:involvesRole chthulu:Manner_128 .\n",
            "\n",
            "chthulu:Mental_stimulus_stimulus_focus_136 a chthulu:Mental_stimulus_stimulus_focus ;\n",
            "    chthulu:involvesRole chthulu:Manner_136 .\n",
            "\n",
            "chthulu:Miss_Manners a owl:Class ;\n",
            "    rdfs:subClassOf chthulu:HumanProp .\n",
            "\n",
            "chthulu:NatureReserve a owl:Class ;\n",
            "    rdfs:subClassOf chthulu:LOC .\n",
            "\n",
            "chthulu:Needing_208 a chthulu:Needing ;\n",
            "    chthulu:involvesRole chthulu:Cognizer_208 .\n",
            "\n",
            "chthulu:NegevDesert a owl:Class ;\n",
            "    rdfs:subClassOf chthulu:LOC .\n",
            "\n",
            "chthulu:New_York a owl:Class ;\n",
            "    rdfs:subClassOf chthulu:GPE .\n",
            "\n",
            "chthulu:Object a owl:Class ;\n",
            "    rdfs:subClassOf chthulu:Inanimated .\n",
            "\n",
            "chthulu:People_by_vocation_201 a chthulu:People_by_vocation ;\n",
            "    chthulu:involvesRole chthulu:Person_201 .\n",
            "\n",
            "chthulu:People_by_vocation_204 a chthulu:People_by_vocation ;\n",
            "    chthulu:involvesRole chthulu:Persistent_characteristic_204 .\n",
            "\n",
            "chthulu:Perceiver_agentive a owl:Class ;\n",
            "    rdfs:subClassOf chthulu:Role .\n",
            "\n",
            "chthulu:Perception_active a owl:Class ;\n",
            "    rdfs:subClassOf chthulu:Frame .\n",
            "\n",
            "chthulu:Phenomenon a owl:Class ;\n",
            "    rdfs:subClassOf chthulu:Role .\n",
            "\n",
            "chthulu:Philosopher_204 a chthulu:Vocation ;\n",
            "    chthulu:descriptorRole chthulu:Persistent_characteristic_204 .\n",
            "\n",
            "chthulu:Pig a owl:Class ;\n",
            "    rdfs:subClassOf chthulu:Animal .\n",
            "\n",
            "chthulu:PigeonLofts a owl:Class ;\n",
            "    rdfs:subClassOf chthulu:LOC .\n",
            "\n",
            "chthulu:Purpose a owl:Class ;\n",
            "    rdfs:subClassOf chthulu:Role .\n",
            "\n",
            "chthulu:Quality a owl:Class ;\n",
            "    rdfs:subClassOf chthulu:Descriptor .\n",
            "\n",
            "chthulu:Scientist_207 a chthulu:Vocation ;\n",
            "    chthulu:descriptorRole chthulu:Persistent_characteristic_207 .\n",
            "\n",
            "chthulu:She_107 a chthulu:Vinciane_Despret ;\n",
            "    chthulu:agentiveRole chthulu:Cognizer_107 .\n",
            "\n",
            "chthulu:She_201 a chthulu:Vinciane_Despret ;\n",
            "    chthulu:agentiveRole chthulu:Person_201 .\n",
            "\n",
            "chthulu:She_94 a chthulu:Vinciane_Despret ;\n",
            "    chthulu:agentiveRole chthulu:Student_94 .\n",
            "\n",
            "chthulu:Soay_sheep a owl:Class ;\n",
            "    rdfs:subClassOf chthulu:Animal .\n",
            "\n",
            "chthulu:Son a owl:Class ;\n",
            "    rdfs:subClassOf chthulu:HumanComm .\n",
            "\n",
            "chthulu:SouthernIsraeliDesert a owl:Class ;\n",
            "    rdfs:subClassOf chthulu:LOC .\n",
            "\n",
            "chthulu:Southern_California a owl:Class ;\n",
            "    rdfs:subClassOf chthulu:GPE .\n",
            "\n",
            "chthulu:Studying_104 a chthulu:Studying ;\n",
            "    chthulu:involvesRole chthulu:Manner_104 .\n",
            "\n",
            "chthulu:Studying_94 a chthulu:Studying ;\n",
            "    chthulu:involvesRole chthulu:Student_94 .\n",
            "\n",
            "chthulu:Technology a owl:Class ;\n",
            "    rdfs:subClassOf chthulu:Inanimated .\n",
            "\n",
            "chthulu:Thelma_Rowell a owl:Class ;\n",
            "    rdfs:subClassOf chthulu:HumanProp .\n",
            "\n",
            "chthulu:Thinker a owl:Class ;\n",
            "    rdfs:subClassOf chthulu:Role .\n",
            "\n",
            "chthulu:Village a owl:Class ;\n",
            "    rdfs:subClassOf chthulu:LOC .\n",
            "\n",
            "chthulu:Virginia_Woolf a owl:Class ;\n",
            "    rdfs:subClassOf chthulu:HumanProp .\n",
            "\n",
            "chthulu:Visitor a owl:Class ;\n",
            "    rdfs:subClassOf chthulu:HumanComm .\n",
            "\n",
            "chthulu:Woman a owl:Class ;\n",
            "    rdfs:subClassOf chthulu:HumanComm .\n",
            "\n",
            "chthulu:World a owl:Class ;\n",
            "    rdfs:subClassOf chthulu:LOC .\n",
            "\n",
            "chthulu:agentiveRole a owl:ObjectProperty ;\n",
            "    rdfs:comment \"Property connecting an AgentiveEntity to the Role it assumes in a Frame\" ;\n",
            "    rdfs:domain chthulu:AgentiveEntity ;\n",
            "    rdfs:range chthulu:Role ;\n",
            "    rdfs:subPropertyOf chthulu:hasRole .\n",
            "\n",
            "chthulu:conceptRole a owl:ObjectProperty ;\n",
            "    rdfs:comment \"Property connecting a Cpncept to the Role it assumes in a Frame\" ;\n",
            "    rdfs:domain chthulu:Concept ;\n",
            "    rdfs:range chthulu:Role ;\n",
            "    rdfs:subPropertyOf chthulu:hasRole .\n",
            "\n",
            "chthulu:descriptorRole a owl:ObjectProperty ;\n",
            "    rdfs:comment \"Pproperty connecting a Descriptor to the Role it assumes in a Frame\" ;\n",
            "    rdfs:domain chthulu:Descriptor ;\n",
            "    rdfs:range chthulu:Role ;\n",
            "    rdfs:subPropertyOf chthulu:hasRole .\n",
            "\n",
            "chthulu:discovering_128 a chthulu:Modality ;\n",
            "    chthulu:descriptorRole chthulu:Manner_128 .\n",
            "\n",
            "chthulu:encounters_104 a chthulu:LOC ;\n",
            "    chthulu:locationRole chthulu:Manner_104 .\n",
            "\n",
            "chthulu:evokes a owl:ObjectProperty ;\n",
            "    rdfs:comment \"property connecting a Frame to the Concepts, if present, evoked in the text.\" ;\n",
            "    rdfs:domain chthulu:Frame ;\n",
            "    rdfs:range chthulu:Concept ;\n",
            "    owl:inverseOf chthulu:isEvokedBy .\n",
            "\n",
            "chthulu:generatedBy a owl:ObjectProperty ;\n",
            "    rdfs:comment \"property connecting a Concept to another Concept that generates it\" .\n",
            "\n",
            "chthulu:involvesRole a owl:ObjectProperty ;\n",
            "    rdfs:comment \"Property connecting a frame to its Frame Elements (hence, the sematic roles identified in a Frame).\" ;\n",
            "    rdfs:domain chthulu:Frame ;\n",
            "    rdfs:range chthulu:Role .\n",
            "\n",
            "chthulu:locationRole a owl:ObjectProperty ;\n",
            "    rdfs:comment \"Property connecting a Location to the Role it assumes in a Frame\" ;\n",
            "    rdfs:domain chthulu:Place ;\n",
            "    rdfs:range chthulu:Role ;\n",
            "    rdfs:subPropertyOf chthulu:hasRole .\n",
            "\n",
            "chthulu:reducing_136 a chthulu:Modality ;\n",
            "    chthulu:descriptorRole chthulu:Manner_136 .\n",
            "\n",
            "chthulu:who_208 a chthulu:Vinciane_Despret ;\n",
            "    chthulu:agentiveRole chthulu:Cognizer_208 .\n",
            "\n",
            "chco:Inheritance a chco:PracticeConcept,\n",
            "        owl:NamedIndividual ;\n",
            "    chco:impliesActivity chco:ThinkFrom ;\n",
            "    chco:overlapsWith chco:PlayingSF .\n",
            "\n",
            "chco:Politeness a chco:ModeConcept,\n",
            "        owl:NamedIndividual .\n",
            "\n",
            "chco:ResponseAbility a chco:ModeConcept,\n",
            "        owl:NamedIndividual .\n",
            "\n",
            "chco:Storytelling a chco:ActivityConcept,\n",
            "        owl:NamedIndividual ;\n",
            "    chco:overlapsWith chco:PlayingSF .\n",
            "\n",
            "chco:ThinkFrom a chco:ActivityConcept,\n",
            "        owl:NamedIndividual ;\n",
            "    chco:impliedIn chco:Inheritance .\n",
            "\n",
            "chco:Worlding a chco:PracticeConcept,\n",
            "        owl:NamedIndividual ;\n",
            "    chco:hasExample chco:GoVisit .\n",
            "\n",
            "chco:generates a owl:ObjectProperty ;\n",
            "    rdfs:domain chco:Concept ;\n",
            "    rdfs:range chco:Concept .\n",
            "\n",
            "chco:hasCondition a owl:ObjectProperty ;\n",
            "    rdfs:domain chco:Concept ;\n",
            "    rdfs:range chco:ModeConcept .\n",
            "\n",
            "chco:hasExample a owl:ObjectProperty ;\n",
            "    rdfs:domain chco:Concept ;\n",
            "    rdfs:range chco:Concept .\n",
            "\n",
            "chthulu:Agent a owl:Class ;\n",
            "    rdfs:subClassOf chthulu:Role .\n",
            "\n",
            "chthulu:Being_in_category a owl:Class ;\n",
            "    rdfs:subClassOf chthulu:Frame .\n",
            "\n",
            "chthulu:Being_in_category_199 a chthulu:Being_in_category ;\n",
            "    chthulu:evokes chthulu:Worlding_199 ;\n",
            "    chthulu:involvesRole chthulu:Category_199 .\n",
            "\n",
            "chthulu:Category a owl:Class ;\n",
            "    rdfs:subClassOf chthulu:Role .\n",
            "\n",
            "chthulu:Cause a owl:Class ;\n",
            "    rdfs:subClassOf chthulu:Role .\n",
            "\n",
            "chthulu:Cause_expansion_149 a chthulu:Cause_expansion ;\n",
            "    chthulu:evokes chthulu:thinking_149 ;\n",
            "    chthulu:involvesRole chthulu:Cause_149 .\n",
            "\n",
            "chthulu:Cause_expansion_156 a chthulu:Cause_expansion ;\n",
            "    chthulu:evokes chthulu:competencies_156 ;\n",
            "    chthulu:involvesRole chthulu:Item_156 .\n",
            "\n",
            "chthulu:Coming_up_with_114 a chthulu:Coming_up_with ;\n",
            "    chthulu:evokes chthulu:theory_114 ;\n",
            "    chthulu:involvesRole chthulu:Idea_114 .\n",
            "\n",
            "chthulu:Coming_up_with_149 a chthulu:Coming_up_with ;\n",
            "    chthulu:evokes chthulu:thinking_149 ;\n",
            "    chthulu:involvesRole chthulu:Cognizer_149 .\n",
            "\n",
            "chthulu:Experiencer a owl:Class ;\n",
            "    rdfs:subClassOf chthulu:Role .\n",
            "\n",
            "chthulu:Idea_189 a chthulu:Idea .\n",
            "\n",
            "chthulu:Item a owl:Class ;\n",
            "    rdfs:subClassOf chthulu:Role .\n",
            "\n",
            "chthulu:Mental_stimulus_stimulus_focus_126 a chthulu:Mental_stimulus_stimulus_focus ;\n",
            "    chthulu:evokes chthulu:Thinking_126 ;\n",
            "    chthulu:involvesRole chthulu:Stimulus_126 .\n",
            "\n",
            "chthulu:Organization a owl:Class ;\n",
            "    rdfs:subClassOf chthulu:Animated .\n",
            "\n",
            "chthulu:Person a owl:Class ;\n",
            "    rdfs:subClassOf chthulu:Role .\n",
            "\n",
            "chthulu:Requirement a owl:Class ;\n",
            "    rdfs:subClassOf chthulu:Role .\n",
            "\n",
            "chthulu:Requirement_220 a chthulu:Requirement .\n",
            "\n",
            "chthulu:Stimulus a owl:Class ;\n",
            "    rdfs:subClassOf chthulu:Role .\n",
            "\n",
            "chthulu:Student a owl:Class ;\n",
            "    rdfs:subClassOf chthulu:Role .\n",
            "\n",
            "chthulu:Studying_96 a chthulu:Studying ;\n",
            "    chthulu:evokes chthulu:capable_96 ;\n",
            "    chthulu:involvesRole chthulu:Subject_96 .\n",
            "\n",
            "chthulu:Subject a owl:Class ;\n",
            "    rdfs:subClassOf chthulu:Role .\n",
            "\n",
            "chthulu:Thinking_126 a chthulu:Concept ;\n",
            "    chthulu:conceptRole chthulu:Stimulus_126 ;\n",
            "    chthulu:isEvokedBy chthulu:Mental_stimulus_stimulus_focus_126 .\n",
            "\n",
            "chthulu:Worlding_199 a chthulu:Concept ;\n",
            "    chthulu:conceptRole chthulu:Category_199 ;\n",
            "    chthulu:isEvokedBy chthulu:Being_in_category_199 .\n",
            "\n",
            "chthulu:capable_96 a chthulu:Concept ;\n",
            "    chthulu:conceptRole chthulu:Subject_96 ;\n",
            "    chthulu:isEvokedBy chthulu:Studying_96 ;\n",
            "    owl:sameAs chco:RenderCapable .\n",
            "\n",
            "chthulu:competencies_156 a chthulu:Concept ;\n",
            "    chthulu:conceptRole chthulu:Item_156 ;\n",
            "    chthulu:isEvokedBy chthulu:Cause_expansion_156 ;\n",
            "    owl:sameAs chco:RenderCapable .\n",
            "\n",
            "chthulu:isEvokedBy a owl:ObjectProperty ;\n",
            "    rdfs:comment \"Property connecting  the Concepts, if present, evoked in the text of a certain Frame.\" ;\n",
            "    rdfs:subPropertyOf owl:topObjectProperty .\n",
            "\n",
            "chthulu:theory_114 a chthulu:Concept ;\n",
            "    chthulu:conceptRole chthulu:Idea_114 ;\n",
            "    chthulu:isEvokedBy chthulu:Coming_up_with_114 ;\n",
            "    owl:sameAs chco:ThinkWith .\n",
            "\n",
            "chco:GoVisit a chco:PracticeConcept,\n",
            "        owl:NamedIndividual ;\n",
            "    chco:exampleOf chco:Worlding ;\n",
            "    chco:impliesActivity chco:ThinkWith .\n",
            "\n",
            "chco:Ongoingness a chco:PracticeConcept,\n",
            "        owl:NamedIndividual ;\n",
            "    chco:generatedBy chco:BecomingWith,\n",
            "        chco:RenderCapable ;\n",
            "    chco:hasCondition chco:ResponseAbility .\n",
            "\n",
            "chco:PlayingSF a chco:ActivityConcept,\n",
            "        owl:NamedIndividual ;\n",
            "    chco:overlapsWith chco:Storytelling .\n",
            "\n",
            "chco:impliesActivity a owl:ObjectProperty ;\n",
            "    rdfs:domain chco:Concept ;\n",
            "    rdfs:range chco:ActivityConcept .\n",
            "\n",
            "chthulu:Agent_146 a chthulu:Agent .\n",
            "\n",
            "chthulu:Category_199 a chthulu:Category .\n",
            "\n",
            "chthulu:Cause_149 a chthulu:Cause .\n",
            "\n",
            "chthulu:Cognizer_107 a chthulu:Cognizer .\n",
            "\n",
            "chthulu:Cognizer_149 a chthulu:Cognizer .\n",
            "\n",
            "chthulu:Cognizer_208 a chthulu:Cognizer .\n",
            "\n",
            "chthulu:Experiencer_121 a chthulu:Experiencer .\n",
            "\n",
            "chthulu:Idea a owl:Class ;\n",
            "    rdfs:subClassOf chthulu:Role .\n",
            "\n",
            "chthulu:Idea_114 a chthulu:Idea .\n",
            "\n",
            "chthulu:Inanimated a owl:Class ;\n",
            "    rdfs:subClassOf chthulu:AgentiveEntity .\n",
            "\n",
            "chthulu:Item_156 a chthulu:Item .\n",
            "\n",
            "chthulu:Manner_104 a chthulu:Manner .\n",
            "\n",
            "chthulu:Manner_128 a chthulu:Manner .\n",
            "\n",
            "chthulu:Manner_136 a chthulu:Manner .\n",
            "\n",
            "chthulu:Modality a owl:Class ;\n",
            "    rdfs:subClassOf chthulu:Descriptor .\n",
            "\n",
            "chthulu:Needing a owl:Class ;\n",
            "    rdfs:subClassOf chthulu:Frame .\n",
            "\n",
            "chthulu:Needing_220 a chthulu:Needing ;\n",
            "    chthulu:evokes chthulu:Ongoingness_1,\n",
            "        chthulu:ThinkWith_1 ;\n",
            "    chthulu:involvesRole chthulu:Requirement_220 .\n",
            "\n",
            "chthulu:Ongoingness_1 a chthulu:Concept ;\n",
            "    chthulu:isEvokedBy chthulu:Needing_220,\n",
            "        chthulu:People_by_vocation_207 ;\n",
            "    owl:sameAs chco:Ongoingness .\n",
            "\n",
            "chthulu:People_by_vocation_207 a chthulu:People_by_vocation ;\n",
            "    chthulu:evokes chthulu:Ongoingness_1,\n",
            "        chthulu:ThinkWith_1 ;\n",
            "    chthulu:involvesRole chthulu:Persistent_characteristic_207 .\n",
            "\n",
            "chthulu:Persistent_characteristic a owl:Class ;\n",
            "    rdfs:subClassOf chthulu:Role .\n",
            "\n",
            "chthulu:Persistent_characteristic_204 a chthulu:Persistent_characteristic .\n",
            "\n",
            "chthulu:Persistent_characteristic_207 a chthulu:Persistent_characteristic .\n",
            "\n",
            "chthulu:Person_201 a chthulu:Person .\n",
            "\n",
            "chthulu:Stimulus_126 a chthulu:Stimulus .\n",
            "\n",
            "chthulu:Student_94 a chthulu:Student .\n",
            "\n",
            "chthulu:Subject_96 a chthulu:Subject .\n",
            "\n",
            "chthulu:ThinkWith_1 a chthulu:Concept ;\n",
            "    chthulu:isEvokedBy chthulu:Needing_220,\n",
            "        chthulu:People_by_vocation_207 ;\n",
            "    owl:sameAs chco:ThinkWith .\n",
            "\n",
            "chthulu:Vocation a owl:Class ;\n",
            "    rdfs:subClassOf chthulu:Descriptor .\n",
            "\n",
            "chthulu:thinking_149 a chthulu:Concept ;\n",
            "    chthulu:conceptRole chthulu:Cause_149,\n",
            "        chthulu:Cognizer_149 ;\n",
            "    chthulu:isEvokedBy chthulu:Cause_expansion_149,\n",
            "        chthulu:Coming_up_with_149 ;\n",
            "    owl:sameAs chco:ThinkWith .\n",
            "\n",
            "chco:BecomingWith a chco:ActivityConcept,\n",
            "        owl:NamedIndividual ;\n",
            "    chco:generates chco:Ongoingness ;\n",
            "    chco:overlapsWith chco:RenderCapable .\n",
            "\n",
            "chthulu:AgentiveEntity a owl:Class .\n",
            "\n",
            "chthulu:Cause_expansion a owl:Class ;\n",
            "    rdfs:subClassOf chthulu:Frame .\n",
            "\n",
            "chthulu:Cognizer a owl:Class ;\n",
            "    rdfs:subClassOf chthulu:Role .\n",
            "\n",
            "chthulu:Manner a owl:Class ;\n",
            "    rdfs:subClassOf chthulu:Role .\n",
            "\n",
            "chthulu:People_by_vocation a owl:Class ;\n",
            "    rdfs:subClassOf chthulu:Frame .\n",
            "\n",
            "chthulu:Place a owl:Class .\n",
            "\n",
            "chthulu:Studying a owl:Class ;\n",
            "    rdfs:subClassOf chthulu:Frame .\n",
            "\n",
            "chco:ThinkWith a chco:ActivityConcept,\n",
            "        owl:NamedIndividual ;\n",
            "    chco:hasCondition chco:Politeness ;\n",
            "    chco:impliedIn chco:GoVisit ;\n",
            "    chco:impliesActivity chco:BecomingWith,\n",
            "        chco:RenderCapable .\n",
            "\n",
            "chthulu:Animated a owl:Class ;\n",
            "    rdfs:subClassOf chthulu:AgentiveEntity .\n",
            "\n",
            "chthulu:Coming_up_with a owl:Class ;\n",
            "    rdfs:subClassOf chthulu:Frame .\n",
            "\n",
            "chthulu:Descriptor a owl:Class .\n",
            "\n",
            "chthulu:Mental_stimulus_stimulus_focus a owl:Class ;\n",
            "    rdfs:subClassOf chthulu:Frame .\n",
            "\n",
            "chthulu:hasRole a owl:ObjectProperty .\n",
            "\n",
            "chco:ModeConcept a owl:Class ;\n",
            "    rdfs:comment \"ModeConcepts are ways of doing things, a particular state of mind and predisposition that is necessary for enabling an ActivityConcept or a PracticeConcept. For example, Donna Haraway defines Politeness as a virtue that makes the activity of thinking-with a generative activity, really capable of transforming the beings that participate in it. In other words, Politeness is the modality of thinking that transform \\\"think\\\" in \\\"think-with\\\".\" ;\n",
            "    rdfs:subClassOf chco:Concept .\n",
            "\n",
            "chco:PracticeConcept a owl:Class ;\n",
            "    rdfs:comment \"A PracticeConcept identifies general practices described by DonnaHaraway these practices are general conceptual frames to understand and act in a troubled word and may manifest in different situated examples. They are considered at an abstract level and explained through original evocative terms such as \\\"SF\\\", \\\"Worlding\\\", \\\"Ongoingness\\\".\" ;\n",
            "    rdfs:subClassOf chco:Concept .\n",
            "\n",
            "chco:RenderCapable a chco:ActivityConcept,\n",
            "        owl:NamedIndividual ;\n",
            "    chco:overlapsWith chco:BecomingWith .\n",
            "\n",
            "chthulu:Animal a owl:Class ;\n",
            "    rdfs:subClassOf chthulu:Animated .\n",
            "\n",
            "chthulu:Vinciane_Despret a owl:Class ;\n",
            "    rdfs:subClassOf chthulu:HumanProp .\n",
            "\n",
            "chco:ActivityConcept a owl:Class ;\n",
            "    rdfs:comment \"ActivityConcepts are situated, concrete processes actuated by and through the beings -human and not-  that participate in them. They are re-inventions of common activities such as \\\"thinking\\\", \\\"becoming\\\" in the non-anthropocentric frame of the Chthulucene and they usually require equal co-participation of all entities involved.\" ;\n",
            "    rdfs:subClassOf chco:Concept .\n",
            "\n",
            "chthulu:Concept a owl:Class .\n",
            "\n",
            "chthulu:GPE a owl:Class ;\n",
            "    rdfs:subClassOf chthulu:Place .\n",
            "\n",
            "chthulu:HumanProp a owl:Class ;\n",
            "    rdfs:subClassOf chthulu:Animated .\n",
            "\n",
            "chthulu:HumanComm a owl:Class ;\n",
            "    rdfs:subClassOf chthulu:Animated .\n",
            "\n",
            "chthulu:Frame a owl:Class .\n",
            "\n",
            "chthulu:LOC a owl:Class ;\n",
            "    rdfs:subClassOf chthulu:Place .\n",
            "\n",
            "chco:Concept a owl:Class ;\n",
            "    rdfs:subClassOf [ a owl:Restriction ;\n",
            "            owl:allValuesFrom chco:ModeConcept ;\n",
            "            owl:onProperty chco:hasCondition ],\n",
            "        [ a owl:Restriction ;\n",
            "            owl:allValuesFrom chco:ActivityConcept ;\n",
            "            owl:onProperty chco:impliesActivity ] .\n",
            "\n",
            "chthulu:Role a owl:Class .\n",
            "\n",
            "[] a owl:AllDisjointClasses ;\n",
            "    owl:members ( chco:ActivityConcept chco:ModeConcept chco:PracticeConcept ) .\n",
            "\n",
            "\n"
          ]
        }
      ]
    },
    {
      "cell_type": "code",
      "source": [
        "# What are the instances of the class Frame?\n",
        "cq_1 = '''\n",
        "PREFIX rdf: <http://www.w3.org/1999/02/22-rdf-syntax-ns#>\n",
        "PREFIX rdfs: <http://www.w3.org/2000/01/rdf-schema#>\n",
        "PREFIX chco: <http://www.semanticweb.org/ghiot/ontologies/2023/5/chthuluConcepts#>\n",
        "\n",
        "SELECT ?object\n",
        "WHERE {\n",
        "  chco:PlayingSF chco:overlapsWith ?object\n",
        "\n",
        "                }\n",
        "\n",
        "'''\n",
        "results = chthuluGraph_.query(cq_1)\n",
        "\n",
        "for cq in results:\n",
        "    print(cq['object'])\n"
      ],
      "metadata": {
        "id": "2wx-SCOISw3m",
        "colab": {
          "base_uri": "https://localhost:8080/"
        },
        "outputId": "87db2f5a-6bf8-4fc1-8f6a-4d56b5f437a3"
      },
      "execution_count": 128,
      "outputs": [
        {
          "output_type": "stream",
          "name": "stdout",
          "text": [
            "http://www.semanticweb.org/ghiot/ontologies/2023/5/chthuluConcepts#Storytelling\n"
          ]
        }
      ]
    },
    {
      "cell_type": "code",
      "source": [
        "# Quali sono i ruoli per il frame Cause Expansion?\n",
        "cq5 = '''\n",
        "PREFIX rdf: <http://www.w3.org/1999/02/22-rdf-syntax-ns#>\n",
        "PREFIX rdfs: <http://www.w3.org/2000/01/rdf-schema#>\n",
        "PREFIX chco: <http://www.semanticweb.org/ghiot/ontologies/2023/5/chthuluConcepts#>\n",
        "\n",
        "SELECT ?s ?o\n",
        "WHERE {\n",
        "  ?s a chthulu:Cause_expansion ;\n",
        "  chthulu:involvesRole ?o\n",
        "\n",
        "                }\n",
        "\n",
        "'''\n",
        "results = chthuluGraph_.query(cq5)\n",
        "\n",
        "for cq in results:\n",
        "    print(cq['s'], cq['o'])\n",
        "\n",
        "# verified"
      ],
      "metadata": {
        "colab": {
          "base_uri": "https://localhost:8080/"
        },
        "id": "7DIabJSaQlBv",
        "outputId": "a2900d2e-a7c5-436a-a24e-dde4f503784b"
      },
      "execution_count": 129,
      "outputs": [
        {
          "output_type": "stream",
          "name": "stdout",
          "text": [
            "http://www.semanticweb.org/ghiot/ontologies/2023/5/chthulucene#Cause_expansion_146 http://www.semanticweb.org/ghiot/ontologies/2023/5/chthulucene#Agent_146\n",
            "http://www.semanticweb.org/ghiot/ontologies/2023/5/chthulucene#Cause_expansion_149 http://www.semanticweb.org/ghiot/ontologies/2023/5/chthulucene#Cause_149\n",
            "http://www.semanticweb.org/ghiot/ontologies/2023/5/chthulucene#Cause_expansion_156 http://www.semanticweb.org/ghiot/ontologies/2023/5/chthulucene#Item_156\n"
          ]
        }
      ]
    },
    {
      "cell_type": "code",
      "source": [
        "# Quali ruoli ricopre Vinciane Despret? In quali frames?\n",
        "cq5 = '''\n",
        "PREFIX rdf: <http://www.w3.org/1999/02/22-rdf-syntax-ns#>\n",
        "PREFIX rdfs: <http://www.w3.org/2000/01/rdf-schema#>\n",
        "PREFIX chco: <http://www.semanticweb.org/ghiot/ontologies/2023/5/chthuluConcepts#>\n",
        "\n",
        "SELECT ?role ?frame ?concept\n",
        "WHERE {\n",
        "  ?s a chthulu:Vinciane_Despret ;\n",
        "  chthulu:agentiveRole ?role .\n",
        "  ?frame chthulu:involvesRole ?role ;\n",
        "                }\n",
        "\n",
        "'''\n",
        "results = chthuluGraph_.query(cq5)\n",
        "\n",
        "for cq in results:\n",
        "    print(cq['role'], cq['frame'])\n",
        "\n",
        "#verified"
      ],
      "metadata": {
        "id": "B2jyPz4kRQrT",
        "colab": {
          "base_uri": "https://localhost:8080/"
        },
        "outputId": "8d5fa2b4-343e-4413-e661-58b470a14ad8"
      },
      "execution_count": 170,
      "outputs": [
        {
          "output_type": "stream",
          "name": "stdout",
          "text": [
            "http://www.semanticweb.org/ghiot/ontologies/2023/5/chthulucene#Experiencer_121 http://www.semanticweb.org/ghiot/ontologies/2023/5/chthulucene#Mental_stimulus_stimulus_focus_121\n",
            "http://www.semanticweb.org/ghiot/ontologies/2023/5/chthulucene#Agent_146 http://www.semanticweb.org/ghiot/ontologies/2023/5/chthulucene#Cause_expansion_146\n",
            "http://www.semanticweb.org/ghiot/ontologies/2023/5/chthulucene#Cognizer_107 http://www.semanticweb.org/ghiot/ontologies/2023/5/chthulucene#Coming_up_with_107\n",
            "http://www.semanticweb.org/ghiot/ontologies/2023/5/chthulucene#Person_201 http://www.semanticweb.org/ghiot/ontologies/2023/5/chthulucene#People_by_vocation_201\n",
            "http://www.semanticweb.org/ghiot/ontologies/2023/5/chthulucene#Student_94 http://www.semanticweb.org/ghiot/ontologies/2023/5/chthulucene#Studying_94\n",
            "http://www.semanticweb.org/ghiot/ontologies/2023/5/chthulucene#Cognizer_208 http://www.semanticweb.org/ghiot/ontologies/2023/5/chthulucene#Needing_208\n"
          ]
        }
      ]
    },
    {
      "cell_type": "code",
      "source": [
        "# [pt 2]\n",
        "cq6 = '''\n",
        "PREFIX rdf: <http://www.w3.org/1999/02/22-rdf-syntax-ns#>\n",
        "PREFIX rdfs: <http://www.w3.org/2000/01/rdf-schema#>\n",
        "PREFIX chco: <http://www.semanticweb.org/ghiot/ontologies/2023/5/chthuluConcepts#>\n",
        "\n",
        "SELECT ?concept\n",
        "WHERE {\n",
        "  chthulu:Mental_stimulus_stimulus_focus_126 chthulu:evokes ?concept\n",
        "}\n",
        "\n",
        "'''\n",
        "results6 = chthuluGraph_.query(cq6)\n",
        "\n",
        "for cq in results6:\n",
        "    print(cq['concept'])\n",
        "\n",
        "\n"
      ],
      "metadata": {
        "colab": {
          "base_uri": "https://localhost:8080/"
        },
        "id": "2FHpBAQma9_m",
        "outputId": "5ef9d131-a831-478c-afc8-588db30ffee6"
      },
      "execution_count": 132,
      "outputs": [
        {
          "output_type": "stream",
          "name": "stdout",
          "text": [
            "http://www.semanticweb.org/ghiot/ontologies/2023/5/chthulucene#Thinking_126\n"
          ]
        }
      ]
    },
    {
      "cell_type": "code",
      "source": [
        "#[pt 2]\n",
        "cq7 = '''\n",
        "PREFIX rdf: <http://www.w3.org/1999/02/22-rdf-syntax-ns#>\n",
        "PREFIX rdfs: <http://www.w3.org/2000/01/rdf-schema#>\n",
        "PREFIX chco: <http://www.semanticweb.org/ghiot/ontologies/2023/5/chthuluConcepts#>\n",
        "\n",
        "SELECT ?concept\n",
        "WHERE {\n",
        "  chthulu:Cause_expansion_146 chthulu:evokes ?concept\n",
        "}\n",
        "\n",
        "'''\n",
        "results7 = chthuluGraph_.query(cq7)\n",
        "\n",
        "for cq in results7:\n",
        "    print(cq['concept'])"
      ],
      "metadata": {
        "id": "ggqZW9VHcNb1"
      },
      "execution_count": 133,
      "outputs": []
    },
    {
      "cell_type": "code",
      "source": [
        "cq8 = '''\n",
        "PREFIX rdf: <http://www.w3.org/1999/02/22-rdf-syntax-ns#>\n",
        "PREFIX rdfs: <http://www.w3.org/2000/01/rdf-schema#>\n",
        "PREFIX chco: <http://www.semanticweb.org/ghiot/ontologies/2023/5/chthuluConcepts#>\n",
        "\n",
        "SELECT ?concept\n",
        "WHERE {\n",
        "  chthulu:Coming_up_with_107 chthulu:evokes ?concept\n",
        "}\n",
        "\n",
        "'''\n",
        "results8 = chthuluGraph_.query(cq8)\n",
        "\n",
        "for cq in results8:\n",
        "    print(cq['concept'])"
      ],
      "metadata": {
        "id": "C6GxCGErdGrE"
      },
      "execution_count": 134,
      "outputs": []
    },
    {
      "cell_type": "code",
      "source": [
        "cq9 = '''\n",
        "PREFIX rdf: <http://www.w3.org/1999/02/22-rdf-syntax-ns#>\n",
        "PREFIX rdfs: <http://www.w3.org/2000/01/rdf-schema#>\n",
        "PREFIX chco: <http://www.semanticweb.org/ghiot/ontologies/2023/5/chthuluConcepts#>\n",
        "\n",
        "SELECT ?concept\n",
        "WHERE {\n",
        "  chthulu:People_by_vocation_201 chthulu:evokes ?concept\n",
        "}\n",
        "\n",
        "'''\n",
        "results9 = chthuluGraph_.query(cq9)\n",
        "\n",
        "for cq in results9:\n",
        "    print(cq['concept'])"
      ],
      "metadata": {
        "id": "LZh-6GoPdsCj"
      },
      "execution_count": 135,
      "outputs": []
    },
    {
      "cell_type": "code",
      "source": [
        "cq10 = '''\n",
        "PREFIX rdf: <http://www.w3.org/1999/02/22-rdf-syntax-ns#>\n",
        "PREFIX rdfs: <http://www.w3.org/2000/01/rdf-schema#>\n",
        "PREFIX chco: <http://www.semanticweb.org/ghiot/ontologies/2023/5/chthuluConcepts#>\n",
        "\n",
        "SELECT ?concept\n",
        "WHERE {\n",
        "  chthulu:Studying_94 chthulu:evokes ?concept\n",
        "}\n",
        "\n",
        "'''\n",
        "results10 = chthuluGraph_.query(cq10)\n",
        "\n",
        "for cq in results9:\n",
        "    print(cq['concept'])"
      ],
      "metadata": {
        "id": "347zVfP2d9xG"
      },
      "execution_count": 136,
      "outputs": []
    },
    {
      "cell_type": "code",
      "source": [
        "cq11 = '''\n",
        "PREFIX rdf: <http://www.w3.org/1999/02/22-rdf-syntax-ns#>\n",
        "PREFIX rdfs: <http://www.w3.org/2000/01/rdf-schema#>\n",
        "PREFIX chco: <http://www.semanticweb.org/ghiot/ontologies/2023/5/chthuluConcepts#>\n",
        "\n",
        "SELECT ?concept\n",
        "WHERE {\n",
        "  chthulu:Needing_208 chthulu:evokes ?concept\n",
        "}\n",
        "\n",
        "'''\n",
        "results11 = chthuluGraph_.query(cq11)\n",
        "\n",
        "for cq in results11:\n",
        "    print(cq['concept'])"
      ],
      "metadata": {
        "id": "nW5OVjRoeKWt"
      },
      "execution_count": 137,
      "outputs": []
    },
    {
      "cell_type": "code",
      "source": [
        "# What are the frames? Which role do they have?\n",
        "\n",
        "cq13 = '''\n",
        "PREFIX rdf: <http://www.w3.org/2999/02/22-rdf-syntax-ns#>\n",
        "PREFIX rdfs: <http://www.w3.org/2000/01/rdf-schema#>\n",
        "PREFIX chco: <http://www.semanticweb.org/ghiot/ontologies/2023/5/chthuluConcepts#>\n",
        "\n",
        "SELECT ?s\n",
        "WHERE {\n",
        "  ?s rdfs:subClassOf chthulu:Frame ;\n",
        "\n",
        "}\n",
        "\n",
        "'''\n",
        "results13 = chthuluGraph_.query(cq13)\n",
        "\n",
        "for cq in results13:\n",
        "    print(cq['s'])"
      ],
      "metadata": {
        "colab": {
          "base_uri": "https://localhost:8080/"
        },
        "id": "ruLQLvhmhMZg",
        "outputId": "9a36e84c-c304-4bc6-e36d-c1cd10ed4033"
      },
      "execution_count": 182,
      "outputs": [
        {
          "output_type": "stream",
          "name": "stdout",
          "text": [
            "http://www.semanticweb.org/ghiot/ontologies/2023/5/chthulucene#Collaborative_thinking\n",
            "http://www.semanticweb.org/ghiot/ontologies/2023/5/chthulucene#Coming_to_believe\n",
            "http://www.semanticweb.org/ghiot/ontologies/2023/5/chthulucene#Perception_active\n",
            "http://www.semanticweb.org/ghiot/ontologies/2023/5/chthulucene#Being_in_category\n",
            "http://www.semanticweb.org/ghiot/ontologies/2023/5/chthulucene#Needing\n",
            "http://www.semanticweb.org/ghiot/ontologies/2023/5/chthulucene#Cause_expansion\n",
            "http://www.semanticweb.org/ghiot/ontologies/2023/5/chthulucene#People_by_vocation\n",
            "http://www.semanticweb.org/ghiot/ontologies/2023/5/chthulucene#Studying\n",
            "http://www.semanticweb.org/ghiot/ontologies/2023/5/chthulucene#Coming_up_with\n",
            "http://www.semanticweb.org/ghiot/ontologies/2023/5/chthulucene#Mental_stimulus_stimulus_focus\n"
          ]
        }
      ]
    },
    {
      "cell_type": "code",
      "source": [
        "# Which frame has which role? [pt 2]\n",
        "\"\"\"\n",
        "Collaborative_thinking\n",
        "Coming_to_believe\n",
        "Perception_active\n",
        "Being_in_category\n",
        "Needing\n",
        "Cause_expansion\n",
        "People_by_vocation\n",
        "Studying\n",
        "Coming_up_with\n",
        "Mental_stimulus_stimulus_focus\n",
        "\"\"\"\n",
        "\n",
        "\n",
        "\n",
        "cq14 = '''\n",
        "PREFIX rdf: <http://www.w3.org/2999/02/22-rdf-syntax-ns#>\n",
        "PREFIX rdfs: <http://www.w3.org/2000/01/rdf-schema#>\n",
        "PREFIX chco: <http://www.semanticweb.org/ghiot/ontologies/2023/5/chthuluConcepts#>\n",
        "\n",
        "SELECT ?r\n",
        "WHERE {\n",
        "  ?s a chthulu:Collaborative_thinking ;\n",
        "  chthulu:involvesRole ?r\n",
        "\n",
        "\n",
        "}\n",
        "\n",
        "'''\n",
        "results14 = chthuluGraph_.query(cq14)\n",
        "\n",
        "for cq in results13:\n",
        "    print(cq['r'])"
      ],
      "metadata": {
        "id": "CNPTgqMJkBbk"
      },
      "execution_count": 141,
      "outputs": []
    },
    {
      "cell_type": "code",
      "source": [
        "# Which frame has which role? [pt 2]\n",
        "\"\"\"\n",
        "Collaborative_thinking\n",
        "Coming_to_believe\n",
        "Perception_active\n",
        "Being_in_category\n",
        "Needing\n",
        "Cause_expansion\n",
        "People_by_vocation\n",
        "Studying\n",
        "Coming_up_with\n",
        "Mental_stimulus_stimulus_focus\n",
        "\"\"\"\n",
        "\n",
        "\n",
        "cq15 = '''\n",
        "PREFIX rdf: <http://www.w3.org/2999/02/22-rdf-syntax-ns#>\n",
        "PREFIX rdfs: <http://www.w3.org/2000/01/rdf-schema#>\n",
        "PREFIX chco: <http://www.semanticweb.org/ghiot/ontologies/2023/5/chthuluConcepts#>\n",
        "\n",
        "SELECT ?r\n",
        "WHERE {\n",
        "  ?s a chthulu:Coming_to_believe ;\n",
        "  chthulu:involvesRole ?r\n",
        "\n",
        "\n",
        "}\n",
        "\n",
        "'''\n",
        "results15 = chthuluGraph_.query(cq15)\n",
        "\n",
        "for cq in results15:\n",
        "    print(cq['r'])"
      ],
      "metadata": {
        "id": "UMnUksKhjhom"
      },
      "execution_count": 143,
      "outputs": []
    },
    {
      "cell_type": "code",
      "source": [
        "# Which frame has which role? [pt 2]\n",
        "\"\"\"\n",
        "Collaborative_thinking\n",
        "Coming_to_believe\n",
        "Perception_active\n",
        "Being_in_category\n",
        "Needing\n",
        "Cause_expansion\n",
        "People_by_vocation\n",
        "Studying\n",
        "Coming_up_with\n",
        "Mental_stimulus_stimulus_focus\n",
        "\"\"\"\n",
        "\n",
        "\n",
        "cq16 = '''\n",
        "PREFIX rdf: <http://www.w3.org/2999/02/22-rdf-syntax-ns#>\n",
        "PREFIX rdfs: <http://www.w3.org/2000/01/rdf-schema#>\n",
        "PREFIX chco: <http://www.semanticweb.org/ghiot/ontologies/2023/5/chthuluConcepts#>\n",
        "\n",
        "SELECT ?r\n",
        "WHERE {\n",
        "  ?s a chthulu:Perception_active ;\n",
        "  chthulu:involvesRole ?r\n",
        "\n",
        "\n",
        "}\n",
        "\n",
        "'''\n",
        "results16 = chthuluGraph_.query(cq16)\n",
        "\n",
        "for cq in results16:\n",
        "    print(cq['r'])"
      ],
      "metadata": {
        "id": "3woKA-2FpO1n"
      },
      "execution_count": 147,
      "outputs": []
    },
    {
      "cell_type": "code",
      "source": [
        "# Which frame has which role? [pt 2]\n",
        "\"\"\"\n",
        "Collaborative_thinking\n",
        "Coming_to_believe\n",
        "Perception_active\n",
        "Being_in_category\n",
        "Needing\n",
        "Cause_expansion\n",
        "People_by_vocation\n",
        "Studying\n",
        "Coming_up_with\n",
        "Mental_stimulus_stimulus_focus\n",
        "\"\"\"\n",
        "\n",
        "\n",
        "\n",
        "cq16 = '''\n",
        "PREFIX rdf: <http://www.w3.org/2999/02/22-rdf-syntax-ns#>\n",
        "PREFIX rdfs: <http://www.w3.org/2000/01/rdf-schema#>\n",
        "PREFIX chco: <http://www.semanticweb.org/ghiot/ontologies/2023/5/chthuluConcepts#>\n",
        "\n",
        "SELECT ?r\n",
        "WHERE {\n",
        "  ?s a chthulu:Being_in_category ;\n",
        "  chthulu:involvesRole ?r\n",
        "\n",
        "\n",
        "}\n",
        "\n",
        "'''\n",
        "results16 = chthuluGraph_.query(cq16)\n",
        "\n",
        "for cq in results16:\n",
        "    print(cq['r'])"
      ],
      "metadata": {
        "id": "g8qwaQxPpa-Z"
      },
      "execution_count": null,
      "outputs": []
    },
    {
      "cell_type": "code",
      "source": [
        "# Which frame has which role? [pt 2]\n",
        "\"\"\"\n",
        "Collaborative_thinking\n",
        "Coming_to_believe\n",
        "Perception_active\n",
        "Being_in_category\n",
        "Needing\n",
        "Cause_expansion\n",
        "People_by_vocation\n",
        "Studying\n",
        "Coming_up_with\n",
        "Mental_stimulus_stimulus_focus\n",
        "\"\"\"\n",
        "\n",
        "\n",
        "\n",
        "cq17 = '''\n",
        "PREFIX rdf: <http://www.w3.org/2999/02/22-rdf-syntax-ns#>\n",
        "PREFIX rdfs: <http://www.w3.org/2000/01/rdf-schema#>\n",
        "PREFIX chco: <http://www.semanticweb.org/ghiot/ontologies/2023/5/chthuluConcepts#>\n",
        "\n",
        "SELECT ?r\n",
        "WHERE {\n",
        "  ?s a chthulu:Needing ;\n",
        "  chthulu:involvesRole ?r\n",
        "\n",
        "\n",
        "}\n",
        "\n",
        "'''\n",
        "results17 = chthuluGraph_.query(cq17)\n",
        "\n",
        "for cq in results17:\n",
        "    print(cq['r'])"
      ],
      "metadata": {
        "colab": {
          "base_uri": "https://localhost:8080/"
        },
        "id": "VGlo_ujVpf0s",
        "outputId": "2eeecb68-6640-4089-996e-e536a1a19148"
      },
      "execution_count": 148,
      "outputs": [
        {
          "output_type": "stream",
          "name": "stdout",
          "text": [
            "http://www.semanticweb.org/ghiot/ontologies/2023/5/chthulucene#Cognizer_208\n",
            "http://www.semanticweb.org/ghiot/ontologies/2023/5/chthulucene#Requirement_220\n"
          ]
        }
      ]
    },
    {
      "cell_type": "code",
      "source": [
        "# Which frame has which role? [pt 2]\n",
        "\"\"\"\n",
        "Collaborative_thinking\n",
        "Coming_to_believe\n",
        "Perception_active\n",
        "Being_in_category\n",
        "Needing\n",
        "Cause_expansion\n",
        "People_by_vocation\n",
        "Studying\n",
        "Coming_up_with\n",
        "Mental_stimulus_stimulus_focus\n",
        "\"\"\"\n",
        "\n",
        "\n",
        "\n",
        "cq18 = '''\n",
        "PREFIX rdf: <http://www.w3.org/2999/02/22-rdf-syntax-ns#>\n",
        "PREFIX rdfs: <http://www.w3.org/2000/01/rdf-schema#>\n",
        "PREFIX chco: <http://www.semanticweb.org/ghiot/ontologies/2023/5/chthuluConcepts#>\n",
        "\n",
        "SELECT ?r\n",
        "WHERE {\n",
        "  ?s a chthulu:Cause_expansion ;\n",
        "  chthulu:involvesRole ?r\n",
        "\n",
        "\n",
        "}\n",
        "\n",
        "'''\n",
        "results18 = chthuluGraph_.query(cq18)\n",
        "\n",
        "for cq in results18:\n",
        "    print(cq['r'])"
      ],
      "metadata": {
        "colab": {
          "base_uri": "https://localhost:8080/"
        },
        "id": "fiQpFNSSpl_t",
        "outputId": "0b440fa7-6a33-41bf-ebd4-f2ce9644607e"
      },
      "execution_count": 150,
      "outputs": [
        {
          "output_type": "stream",
          "name": "stdout",
          "text": [
            "http://www.semanticweb.org/ghiot/ontologies/2023/5/chthulucene#Agent_146\n",
            "http://www.semanticweb.org/ghiot/ontologies/2023/5/chthulucene#Cause_149\n",
            "http://www.semanticweb.org/ghiot/ontologies/2023/5/chthulucene#Item_156\n"
          ]
        }
      ]
    },
    {
      "cell_type": "code",
      "source": [
        "# Which frame has which role? [pt 2]\n",
        "\"\"\"\n",
        "Collaborative_thinking\n",
        "Coming_to_believe\n",
        "Perception_active\n",
        "Being_in_category\n",
        "Needing\n",
        "Cause_expansion\n",
        "People_by_vocation\n",
        "Studying\n",
        "Coming_up_with\n",
        "Mental_stimulus_stimulus_focus\n",
        "\"\"\"\n",
        "\n",
        "\n",
        "cq19 = '''\n",
        "PREFIX rdf: <http://www.w3.org/2999/02/22-rdf-syntax-ns#>\n",
        "PREFIX rdfs: <http://www.w3.org/2000/01/rdf-schema#>\n",
        "PREFIX chco: <http://www.semanticweb.org/ghiot/ontologies/2023/5/chthuluConcepts#>\n",
        "\n",
        "SELECT ?r\n",
        "WHERE {\n",
        "  ?s a chthulu:People_by_vocation ;\n",
        "  chthulu:involvesRole ?r\n",
        "\n",
        "\n",
        "}\n",
        "\n",
        "'''\n",
        "results19 = chthuluGraph_.query(cq19)\n",
        "\n",
        "for cq in results19:\n",
        "    print(cq['r'])"
      ],
      "metadata": {
        "colab": {
          "base_uri": "https://localhost:8080/"
        },
        "id": "yc_dMtqtprBj",
        "outputId": "a0df8dfc-a0d7-4fe3-d79b-964fbab30ed8"
      },
      "execution_count": 151,
      "outputs": [
        {
          "output_type": "stream",
          "name": "stdout",
          "text": [
            "http://www.semanticweb.org/ghiot/ontologies/2023/5/chthulucene#Person_201\n",
            "http://www.semanticweb.org/ghiot/ontologies/2023/5/chthulucene#Persistent_characteristic_204\n",
            "http://www.semanticweb.org/ghiot/ontologies/2023/5/chthulucene#Persistent_characteristic_207\n"
          ]
        }
      ]
    },
    {
      "cell_type": "code",
      "source": [
        "# Which frame has which role? [pt 2]\n",
        "\"\"\"\n",
        "Collaborative_thinking\n",
        "Coming_to_believe\n",
        "Perception_active\n",
        "Being_in_category\n",
        "Needing\n",
        "Cause_expansion\n",
        "People_by_vocation\n",
        "Studying\n",
        "Coming_up_with\n",
        "Mental_stimulus_stimulus_focus\n",
        "\"\"\"\n",
        "\n",
        "\n",
        "cq20 = '''\n",
        "PREFIX rdf: <http://www.w3.org/2999/02/22-rdf-syntax-ns#>\n",
        "PREFIX rdfs: <http://www.w3.org/2000/01/rdf-schema#>\n",
        "PREFIX chco: <http://www.semanticweb.org/ghiot/ontologies/2023/5/chthuluConcepts#>\n",
        "\n",
        "SELECT ?r\n",
        "WHERE {\n",
        "  ?s a chthulu:Studying ;\n",
        "  chthulu:involvesRole ?r\n",
        "\n",
        "\n",
        "}\n",
        "\n",
        "'''\n",
        "results20 = chthuluGraph_.query(cq20)\n",
        "\n",
        "for cq in results20:\n",
        "    print(cq['r'])"
      ],
      "metadata": {
        "colab": {
          "base_uri": "https://localhost:8080/"
        },
        "id": "jeYMVuonpx0s",
        "outputId": "3e0e3254-5ab7-47ef-f3f2-2f35056516f0"
      },
      "execution_count": 152,
      "outputs": [
        {
          "output_type": "stream",
          "name": "stdout",
          "text": [
            "http://www.semanticweb.org/ghiot/ontologies/2023/5/chthulucene#Manner_104\n",
            "http://www.semanticweb.org/ghiot/ontologies/2023/5/chthulucene#Student_94\n",
            "http://www.semanticweb.org/ghiot/ontologies/2023/5/chthulucene#Subject_96\n"
          ]
        }
      ]
    },
    {
      "cell_type": "code",
      "source": [
        "# Which frame has which role? [pt 2]\n",
        "\"\"\"\n",
        "Collaborative_thinking\n",
        "Coming_to_believe\n",
        "Perception_active\n",
        "Being_in_category\n",
        "Needing\n",
        "Cause_expansion\n",
        "People_by_vocation\n",
        "Studying\n",
        "Coming_up_with\n",
        "Mental_stimulus_stimulus_focus\n",
        "\"\"\"\n",
        "\n",
        "\n",
        "\n",
        "cq21 = '''\n",
        "PREFIX rdf: <http://www.w3.org/2999/02/22-rdf-syntax-ns#>\n",
        "PREFIX rdfs: <http://www.w3.org/2000/01/rdf-schema#>\n",
        "PREFIX chco: <http://www.semanticweb.org/ghiot/ontologies/2023/5/chthuluConcepts#>\n",
        "\n",
        "SELECT ?r\n",
        "WHERE {\n",
        "  ?s a chthulu:Coming_up_with ;\n",
        "  chthulu:involvesRole ?r\n",
        "\n",
        "\n",
        "}\n",
        "\n",
        "'''\n",
        "results21 = chthuluGraph_.query(cq21)\n",
        "\n",
        "for cq in results21:\n",
        "    print(cq['r'])"
      ],
      "metadata": {
        "colab": {
          "base_uri": "https://localhost:8080/"
        },
        "id": "ndUU4yTrp2sR",
        "outputId": "eda99ebb-ca98-4e43-e82e-83ae3be45135"
      },
      "execution_count": 153,
      "outputs": [
        {
          "output_type": "stream",
          "name": "stdout",
          "text": [
            "http://www.semanticweb.org/ghiot/ontologies/2023/5/chthulucene#Cognizer_107\n",
            "http://www.semanticweb.org/ghiot/ontologies/2023/5/chthulucene#Idea_189\n",
            "http://www.semanticweb.org/ghiot/ontologies/2023/5/chthulucene#Idea_114\n",
            "http://www.semanticweb.org/ghiot/ontologies/2023/5/chthulucene#Cognizer_149\n"
          ]
        }
      ]
    },
    {
      "cell_type": "code",
      "source": [
        "# Which frame has which role? [pt 2]\n",
        "\"\"\"\n",
        "Collaborative_thinking\n",
        "Coming_to_believe\n",
        "Perception_active\n",
        "Being_in_category\n",
        "Needing\n",
        "Cause_expansion\n",
        "People_by_vocation\n",
        "Studying\n",
        "Coming_up_with\n",
        "Mental_stimulus_stimulus_focus\n",
        "\"\"\"\n",
        "\n",
        "\n",
        "\n",
        "cq22 = '''\n",
        "PREFIX rdf: <http://www.w3.org/2999/02/22-rdf-syntax-ns#>\n",
        "PREFIX rdfs: <http://www.w3.org/2000/01/rdf-schema#>\n",
        "PREFIX chco: <http://www.semanticweb.org/ghiot/ontologies/2023/5/chthuluConcepts#>\n",
        "\n",
        "SELECT ?r\n",
        "WHERE {\n",
        "  ?s a chthulu:Mental_stimulus_stimulus_focus ;\n",
        "  chthulu:involvesRole ?r\n",
        "\n",
        "\n",
        "}\n",
        "\n",
        "'''\n",
        "results22 = chthuluGraph_.query(cq22)\n",
        "\n",
        "for cq in results22:\n",
        "    print(cq['r'])"
      ],
      "metadata": {
        "colab": {
          "base_uri": "https://localhost:8080/"
        },
        "id": "CxIjn2zHp_B2",
        "outputId": "a37c6981-b5a9-4924-c44e-2b3415ae1eb3"
      },
      "execution_count": 155,
      "outputs": [
        {
          "output_type": "stream",
          "name": "stdout",
          "text": [
            "http://www.semanticweb.org/ghiot/ontologies/2023/5/chthulucene#Experiencer_121\n",
            "http://www.semanticweb.org/ghiot/ontologies/2023/5/chthulucene#Manner_128\n",
            "http://www.semanticweb.org/ghiot/ontologies/2023/5/chthulucene#Manner_136\n",
            "http://www.semanticweb.org/ghiot/ontologies/2023/5/chthulucene#Stimulus_126\n"
          ]
        }
      ]
    },
    {
      "cell_type": "code",
      "source": [
        "# Connecting the two ontologies: hanno a prescindere dal frame tutti i concetti di tipo #activityconcept?\n",
        "cq23 = '''\n",
        "PREFIX rdf: <http://www.w3.org/2999/02/22-rdf-syntax-ns#>\n",
        "PREFIX rdfs: <http://www.w3.org/2000/01/rdf-schema#>\n",
        "PREFIX chco: <http://www.semanticweb.org/ghiot/ontologies/2023/5/chthuluConcepts#>\n",
        "PREFIX owl: <http://www.w3.org/2002/07/owl#>\n",
        "\n",
        "SELECT ?role\n",
        "WHERE {\n",
        "    ?chcoinst a chco:ActivityConcept.\n",
        "    ?chthuluinstance  a chthulu:Concept;\n",
        "                      owl:sameAs ?chcoinst ;\n",
        "                      chthulu:conceptRole ?role.\n",
        "\n",
        "}\n",
        "\n",
        "'''\n",
        "results23 = chthuluGraph_.query(cq23)\n",
        "\n",
        "for cq in results23:\n",
        "    print(cq['role'])"
      ],
      "metadata": {
        "colab": {
          "base_uri": "https://localhost:8080/"
        },
        "id": "vod5hPiZXyPI",
        "outputId": "f5350a82-3b9c-4477-fabf-6b55b78c7de8"
      },
      "execution_count": 180,
      "outputs": [
        {
          "output_type": "stream",
          "name": "stdout",
          "text": [
            "http://www.semanticweb.org/ghiot/ontologies/2023/5/chthulucene#Subject_96\n",
            "http://www.semanticweb.org/ghiot/ontologies/2023/5/chthulucene#Item_156\n",
            "http://www.semanticweb.org/ghiot/ontologies/2023/5/chthulucene#Idea_114\n",
            "http://www.semanticweb.org/ghiot/ontologies/2023/5/chthulucene#Cause_149\n",
            "http://www.semanticweb.org/ghiot/ontologies/2023/5/chthulucene#Cognizer_149\n"
          ]
        }
      ]
    }
  ]
}